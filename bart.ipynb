{
 "cells": [
  {
   "cell_type": "markdown",
   "metadata": {},
   "source": [
    "# LiveRamp TERM Presentation - BART Analysis"
   ]
  },
  {
   "cell_type": "markdown",
   "metadata": {},
   "source": [
    "Coded by Joshua Chan - October 2019"
   ]
  },
  {
   "cell_type": "markdown",
   "metadata": {},
   "source": [
    "analysis to be done:\n",
    "- histogram of times in which the traffic starts to pick up, per day\n",
    "- histogram of days of the week based on traffic\n",
    "- histogram of the influence the holidays play \n",
    "\n",
    "\n",
    "- separate the different stations by county\n",
    "- measure how much traffic each region has increased and by how much time\n",
    "- discuss the implications of each increase, and some possible solutions on how Bay Area traffic can improve by doing some reading\n",
    "\n",
    "#####\n",
    "\n",
    "BART's policy on Weekend trains has always been baffling. They currently run a different set of trains on Sundays compared to the rest of the week. \n",
    "\n",
    "Should BART continue to keep separated hours on Sundays compared to other days of the week? Or should BART shut down Saturdays compared to the other days? \n",
    "\n",
    "### Outline\n",
    "1. Set up the context of the data set (maybe one screenshot of what it looks like)\n",
    "2. Show some preliminarily interesting graphs to act as the \"hook\"\n",
    "3. Experiment Part 1:\n",
    "    - First Hypothesis: If we showcase the drop off in Sunday rides because of the transfers, we can justify having full train service for the entire week.\n",
    "    - i.e. {Saturday w/only transfers - Sunday w/only transfers} - {Saturday w/no transfers - Sunday w/ no transfers}\n",
    "    - The result ends up being...about 0, which indicates that people don't really care about the fact that you have to transfer? If people don't really care, then why maintain run a full track schedule over Saturday then?\n",
    "    - What are some of the differences between riding on Sunday then Saturday aside from Train Schedule?\n",
    "4. Experiment Part 2:\n",
    "    - Second Hypothesis: If "
   ]
  },
  {
   "cell_type": "markdown",
   "metadata": {},
   "source": [
    "## Setting Up"
   ]
  },
  {
   "cell_type": "code",
   "execution_count": 242,
   "metadata": {},
   "outputs": [],
   "source": [
    "import pandas as pd\n",
    "import seaborn as sns\n",
    "import numpy as np\n",
    "import matplotlib.pyplot as plt\n",
    "import matplotlib.style as style\n",
    "import datetime\n",
    "import warnings\n",
    "import re\n",
    "\n",
    "sns.set()\n",
    "sns.axes_style(\"darkgrid\")\n",
    "warnings.filterwarnings(\"ignore\", category = FutureWarning)\n",
    "sns.set_context('talk') # Makes the axes labels larger"
   ]
  },
  {
   "cell_type": "code",
   "execution_count": 243,
   "metadata": {},
   "outputs": [],
   "source": [
    "# Add the relevant data sets\n",
    "bart_11 = pd.read_csv('bart_2011.csv', header = None) # 2011 Bart Data\n",
    "bart_12 = pd.read_csv('bart_2012.csv', header = None)\n",
    "bart_13 = pd.read_csv('bart_2013.csv', header = None)\n",
    "bart_14 = pd.read_csv('bart_2014.csv', header = None)\n",
    "bart_15 = pd.read_csv('bart_2015.csv', header = None)\n",
    "bart_16 = pd.read_csv('bart_2016.csv', header = None)\n",
    "bart_17 = pd.read_csv('bart_2017.csv', header = None)\n",
    "bart_18 = pd.read_csv('bart_2018.csv', header = None)\n",
    "station = pd.read_csv('station_info.csv') # Information about what abbreviations are which stations"
   ]
  },
  {
   "cell_type": "code",
   "execution_count": 244,
   "metadata": {},
   "outputs": [],
   "source": [
    "bart_districts = {\n",
    "    \"North Alameda\": ['RICH', 'DELN', 'PLZA','NBRK','DBRK','ASHB','ROCK'],\n",
    "    \"East Alameda\": ['CAST', 'WDUB', 'DUBL'],\n",
    "    \"Central Alameda\": [\"MCAR\", '12TH', '19TH', 'WOAK', 'LAKE','FTVL','COLS', 'OAKL', 'SANL','BAYF'],\n",
    "    \"South Alameda\": ['HAYW','SHAY','UCTY','FRMT', 'WARM', 'WSPR'],\n",
    "    \"West Contra Costa\": ['ORIN', 'LAFY', 'WCRK', 'PHIL'],\n",
    "    \"East Contra Costa\": ['ANTC', 'PCTR', 'PITT', 'NCON', 'CONC', 'ANTI'],\n",
    "    \"South San Francisco\": ['MLBR', 'SFIA', 'SBRN', 'SSAN', 'COLM', 'DALY'],\n",
    "    \"San Francisco\": ['BALB', 'GLEN', '24TH', '16TH', 'CIVC','POWL', 'MONT', 'EMBR'],\n",
    "}\n",
    "\n",
    "# Converts the above districts into a {\"RICH\":\"North Alameda\"} dictionary format\n",
    "bart_district = {}\n",
    "for key, value in bart_districts.items():\n",
    "    for i in value:\n",
    "        bart_district[i] = key"
   ]
  },
  {
   "cell_type": "code",
   "execution_count": 245,
   "metadata": {},
   "outputs": [],
   "source": [
    "# Add the new stations into the station dataframe\n",
    "station = station.append({'Abbreviation':'WSPR', \"Description\": None, \"Location\":None, \"Name\":\"Warm Springs       \"}, ignore_index = True)\n",
    "station = station.append({'Abbreviation':'ANTI', \"Description\": None, \"Location\":None, \"Name\":\"Antioch       \"}, ignore_index = True)"
   ]
  },
  {
   "cell_type": "code",
   "execution_count": 246,
   "metadata": {},
   "outputs": [],
   "source": [
    "# adds month, day, day_of_week onto the dataframes\n",
    "def expand_date(df):\n",
    "    df.columns = ['date', 'hour', 'start', 'destination', 'throughput']\n",
    "    date = np.array(df['date'])\n",
    "    time = np.apply_along_axis(lambda x: pd.to_datetime(x), 0, date)\n",
    "    day = np.apply_along_axis(lambda x: pd.to_datetime(x).day, 0, date)\n",
    "    month = np.apply_along_axis(lambda x: pd.to_datetime(x).month, 0, date)\n",
    "    day_of_week = np.apply_along_axis(lambda x: pd.to_datetime(x).weekday, 0, date)\n",
    "    df['date'] = time\n",
    "    df['month'] = month\n",
    "    df['day'] = day\n",
    "    df['day_of_week'] = day_of_week\n",
    "    return df[['date','month', 'day', 'hour','day_of_week', 'start', 'destination', 'throughput']]"
   ]
  },
  {
   "cell_type": "code",
   "execution_count": 247,
   "metadata": {},
   "outputs": [],
   "source": [
    "# apply the function on all of the datasets\n",
    "bart_11 = expand_date(bart_11);\n",
    "bart_12 = expand_date(bart_12);\n",
    "bart_13 = expand_date(bart_13);\n",
    "bart_14 = expand_date(bart_14);\n",
    "bart_15 = expand_date(bart_15);\n",
    "bart_16 = expand_date(bart_16);\n",
    "bart_17 = expand_date(bart_17);\n",
    "bart_18 = expand_date(bart_18);"
   ]
  },
  {
   "cell_type": "code",
   "execution_count": 248,
   "metadata": {},
   "outputs": [],
   "source": [
    "weekday_11 = bart_11[(bart_11['day_of_week'] != 5) & (bart_11['day_of_week'] != 6)]\n",
    "weekday_12 = bart_12[(bart_12['day_of_week'] != 5) & (bart_12['day_of_week'] != 6)]\n",
    "weekday_13 = bart_13[(bart_13['day_of_week'] != 5) & (bart_13['day_of_week'] != 6)]\n",
    "weekday_14 = bart_14[(bart_14['day_of_week'] != 5) & (bart_14['day_of_week'] != 6)]\n",
    "weekday_15 = bart_15[(bart_15['day_of_week'] != 5) & (bart_15['day_of_week'] != 6)]\n",
    "weekday_16 = bart_16[(bart_16['day_of_week'] != 5) & (bart_16['day_of_week'] != 6)]\n",
    "weekday_17 = bart_17[(bart_17['day_of_week'] != 5) & (bart_17['day_of_week'] != 6)]\n",
    "weekday_18 = bart_18[(bart_18['day_of_week'] != 5) & (bart_18['day_of_week'] != 6)]"
   ]
  },
  {
   "cell_type": "code",
   "execution_count": 249,
   "metadata": {},
   "outputs": [
    {
     "name": "stdout",
     "output_type": "stream",
     "text": [
      "Wall time: 15.7 s\n"
     ]
    }
   ],
   "source": [
    "%%time\n",
    "num_weekday = 260\n",
    "avg_weekday_dict = {}\n",
    "year = 2011\n",
    "for i in [weekday_11, weekday_12, weekday_13, weekday_14, weekday_15, weekday_16, weekday_17, weekday_18]:\n",
    "    avg_weekday_dict[year] = i.groupby('date').sum()['throughput'].sum()/num_weekday\n",
    "    year += 1"
   ]
  },
  {
   "cell_type": "code",
   "execution_count": 250,
   "metadata": {},
   "outputs": [
    {
     "data": {
      "text/html": [
       "<div>\n",
       "<style scoped>\n",
       "    .dataframe tbody tr th:only-of-type {\n",
       "        vertical-align: middle;\n",
       "    }\n",
       "\n",
       "    .dataframe tbody tr th {\n",
       "        vertical-align: top;\n",
       "    }\n",
       "\n",
       "    .dataframe thead th {\n",
       "        text-align: right;\n",
       "    }\n",
       "</style>\n",
       "<table border=\"1\" class=\"dataframe\">\n",
       "  <thead>\n",
       "    <tr style=\"text-align: right;\">\n",
       "      <th></th>\n",
       "      <th>0</th>\n",
       "    </tr>\n",
       "  </thead>\n",
       "  <tbody>\n",
       "    <tr>\n",
       "      <th>2011</th>\n",
       "      <td>348147.461538</td>\n",
       "    </tr>\n",
       "    <tr>\n",
       "      <th>2012</th>\n",
       "      <td>374562.719231</td>\n",
       "    </tr>\n",
       "    <tr>\n",
       "      <th>2013</th>\n",
       "      <td>378687.430769</td>\n",
       "    </tr>\n",
       "    <tr>\n",
       "      <th>2014</th>\n",
       "      <td>404353.319231</td>\n",
       "    </tr>\n",
       "    <tr>\n",
       "      <th>2015</th>\n",
       "      <td>420345.511538</td>\n",
       "    </tr>\n",
       "    <tr>\n",
       "      <th>2016</th>\n",
       "      <td>424340.311538</td>\n",
       "    </tr>\n",
       "    <tr>\n",
       "      <th>2017</th>\n",
       "      <td>408282.796154</td>\n",
       "    </tr>\n",
       "    <tr>\n",
       "      <th>2018</th>\n",
       "      <td>403912.503846</td>\n",
       "    </tr>\n",
       "  </tbody>\n",
       "</table>\n",
       "</div>"
      ],
      "text/plain": [
       "                  0\n",
       "2011  348147.461538\n",
       "2012  374562.719231\n",
       "2013  378687.430769\n",
       "2014  404353.319231\n",
       "2015  420345.511538\n",
       "2016  424340.311538\n",
       "2017  408282.796154\n",
       "2018  403912.503846"
      ]
     },
     "execution_count": 250,
     "metadata": {},
     "output_type": "execute_result"
    }
   ],
   "source": [
    "avg_weekday = pd.DataFrame.from_dict(avg_weekday_dict, orient = 'index')\n",
    "avg_weekday"
   ]
  },
  {
   "cell_type": "code",
   "execution_count": 251,
   "metadata": {
    "scrolled": false
   },
   "outputs": [
    {
     "data": {
      "text/plain": [
       "Text(0.5, 0, 'Year')"
      ]
     },
     "execution_count": 251,
     "metadata": {},
     "output_type": "execute_result"
    },
    {
     "data": {
      "image/png": "[encoded data removed]",
      "text/plain": [
       "<Figure size 864x504 with 1 Axes>"
      ]
     },
     "metadata": {},
     "output_type": "display_data"
    }
   ],
   "source": [
    "fig, axs = plt.subplots(figsize = (12, 7))\n",
    "sns.lineplot(y = avg_weekday[0], x = avg_weekday.index, palette=(\"Blues\"))\n",
    "plt.title('Average Weekday Riders per Day', fontsize = 15)\n",
    "plt.ylabel('Number of Riders', fontsize=15)\n",
    "plt.xlabel(\"Year\", fontsize=15)"
   ]
  },
  {
   "cell_type": "code",
   "execution_count": 252,
   "metadata": {},
   "outputs": [
    {
     "data": {
      "text/html": [
       "<div>\n",
       "<style scoped>\n",
       "    .dataframe tbody tr th:only-of-type {\n",
       "        vertical-align: middle;\n",
       "    }\n",
       "\n",
       "    .dataframe tbody tr th {\n",
       "        vertical-align: top;\n",
       "    }\n",
       "\n",
       "    .dataframe thead th {\n",
       "        text-align: right;\n",
       "    }\n",
       "</style>\n",
       "<table border=\"1\" class=\"dataframe\">\n",
       "  <thead>\n",
       "    <tr style=\"text-align: right;\">\n",
       "      <th></th>\n",
       "      <th>date</th>\n",
       "      <th>month</th>\n",
       "      <th>day</th>\n",
       "      <th>hour</th>\n",
       "      <th>day_of_week</th>\n",
       "      <th>start</th>\n",
       "      <th>destination</th>\n",
       "      <th>throughput</th>\n",
       "    </tr>\n",
       "  </thead>\n",
       "  <tbody>\n",
       "    <tr>\n",
       "      <th>38377</th>\n",
       "      <td>2011-01-03</td>\n",
       "      <td>1</td>\n",
       "      <td>3</td>\n",
       "      <td>0</td>\n",
       "      <td>0</td>\n",
       "      <td>12TH</td>\n",
       "      <td>24TH</td>\n",
       "      <td>1</td>\n",
       "    </tr>\n",
       "    <tr>\n",
       "      <th>38378</th>\n",
       "      <td>2011-01-03</td>\n",
       "      <td>1</td>\n",
       "      <td>3</td>\n",
       "      <td>0</td>\n",
       "      <td>0</td>\n",
       "      <td>12TH</td>\n",
       "      <td>ASHB</td>\n",
       "      <td>3</td>\n",
       "    </tr>\n",
       "    <tr>\n",
       "      <th>38379</th>\n",
       "      <td>2011-01-03</td>\n",
       "      <td>1</td>\n",
       "      <td>3</td>\n",
       "      <td>0</td>\n",
       "      <td>0</td>\n",
       "      <td>12TH</td>\n",
       "      <td>BAYF</td>\n",
       "      <td>1</td>\n",
       "    </tr>\n",
       "    <tr>\n",
       "      <th>38380</th>\n",
       "      <td>2011-01-03</td>\n",
       "      <td>1</td>\n",
       "      <td>3</td>\n",
       "      <td>0</td>\n",
       "      <td>0</td>\n",
       "      <td>12TH</td>\n",
       "      <td>CIVC</td>\n",
       "      <td>1</td>\n",
       "    </tr>\n",
       "    <tr>\n",
       "      <th>38381</th>\n",
       "      <td>2011-01-03</td>\n",
       "      <td>1</td>\n",
       "      <td>3</td>\n",
       "      <td>0</td>\n",
       "      <td>0</td>\n",
       "      <td>12TH</td>\n",
       "      <td>CONC</td>\n",
       "      <td>1</td>\n",
       "    </tr>\n",
       "  </tbody>\n",
       "</table>\n",
       "</div>"
      ],
      "text/plain": [
       "            date  month  day  hour  day_of_week start destination  throughput\n",
       "38377 2011-01-03      1    3     0            0  12TH        24TH           1\n",
       "38378 2011-01-03      1    3     0            0  12TH        ASHB           3\n",
       "38379 2011-01-03      1    3     0            0  12TH        BAYF           1\n",
       "38380 2011-01-03      1    3     0            0  12TH        CIVC           1\n",
       "38381 2011-01-03      1    3     0            0  12TH        CONC           1"
      ]
     },
     "execution_count": 252,
     "metadata": {},
     "output_type": "execute_result"
    }
   ],
   "source": [
    "weekday_11.head()"
   ]
  },
  {
   "cell_type": "code",
   "execution_count": 253,
   "metadata": {},
   "outputs": [
    {
     "name": "stdout",
     "output_type": "stream",
     "text": [
      "Wall time: 16.5 s\n"
     ]
    }
   ],
   "source": [
    "%%time\n",
    "year = 2011\n",
    "num_weekday = 260\n",
    "morning_weekday = {}\n",
    "afternoon_weekday = {}\n",
    "off_prime_weekday = {}\n",
    "off_peak_weekday = {}\n",
    "for i in [weekday_11, weekday_12, weekday_13, weekday_14, weekday_15, weekday_16, weekday_17, weekday_18]:\n",
    "    morning = i[(i['hour'] == 7) | (i['hour'] == 8) | (i['hour'] == 9)]\n",
    "    afternoon = i[(i['hour'] == 16) | (i['hour'] == 17) | (i['hour'] == 18)]\n",
    "    off_peak = i[(i['hour'] != 16)&(i['hour']!=17)&(i['hour']!=18)&(i['hour']!=7)&(i['hour']!=8)&(i['hour']!=9)]\n",
    "\n",
    "    morning_weekday[year] = morning['throughput'].sum()/i['throughput'].sum()\n",
    "    afternoon_weekday[year] = afternoon['throughput'].sum()/i['throughput'].sum()\n",
    "    off_peak_weekday[year] = off_peak['throughput'].sum()/i['throughput'].sum()\n",
    "    year += 1"
   ]
  },
  {
   "cell_type": "code",
   "execution_count": 254,
   "metadata": {},
   "outputs": [],
   "source": [
    "morning_weekday = pd.DataFrame.from_dict(morning_weekday, orient = 'index')\n",
    "afternoon_weekday = pd.DataFrame.from_dict(afternoon_weekday, orient = 'index')\n",
    "off_peak_weekday = pd.DataFrame.from_dict(off_peak_weekday, orient = 'index')"
   ]
  },
  {
   "cell_type": "code",
   "execution_count": 255,
   "metadata": {},
   "outputs": [
    {
     "data": {
      "text/html": [
       "<div>\n",
       "<style scoped>\n",
       "    .dataframe tbody tr th:only-of-type {\n",
       "        vertical-align: middle;\n",
       "    }\n",
       "\n",
       "    .dataframe tbody tr th {\n",
       "        vertical-align: top;\n",
       "    }\n",
       "\n",
       "    .dataframe thead th {\n",
       "        text-align: right;\n",
       "    }\n",
       "</style>\n",
       "<table border=\"1\" class=\"dataframe\">\n",
       "  <thead>\n",
       "    <tr style=\"text-align: right;\">\n",
       "      <th></th>\n",
       "      <th>0</th>\n",
       "    </tr>\n",
       "  </thead>\n",
       "  <tbody>\n",
       "    <tr>\n",
       "      <th>2011</th>\n",
       "      <td>0.440086</td>\n",
       "    </tr>\n",
       "    <tr>\n",
       "      <th>2012</th>\n",
       "      <td>0.442414</td>\n",
       "    </tr>\n",
       "    <tr>\n",
       "      <th>2013</th>\n",
       "      <td>0.440554</td>\n",
       "    </tr>\n",
       "    <tr>\n",
       "      <th>2014</th>\n",
       "      <td>0.438560</td>\n",
       "    </tr>\n",
       "    <tr>\n",
       "      <th>2015</th>\n",
       "      <td>0.434112</td>\n",
       "    </tr>\n",
       "    <tr>\n",
       "      <th>2016</th>\n",
       "      <td>0.426213</td>\n",
       "    </tr>\n",
       "    <tr>\n",
       "      <th>2017</th>\n",
       "      <td>0.419448</td>\n",
       "    </tr>\n",
       "    <tr>\n",
       "      <th>2018</th>\n",
       "      <td>0.411107</td>\n",
       "    </tr>\n",
       "  </tbody>\n",
       "</table>\n",
       "</div>"
      ],
      "text/plain": [
       "             0\n",
       "2011  0.440086\n",
       "2012  0.442414\n",
       "2013  0.440554\n",
       "2014  0.438560\n",
       "2015  0.434112\n",
       "2016  0.426213\n",
       "2017  0.419448\n",
       "2018  0.411107"
      ]
     },
     "execution_count": 255,
     "metadata": {},
     "output_type": "execute_result"
    }
   ],
   "source": [
    "off_peak_weekday"
   ]
  },
  {
   "cell_type": "code",
   "execution_count": 256,
   "metadata": {
    "scrolled": false
   },
   "outputs": [
    {
     "data": {
      "text/plain": [
       "Text(0.5, 0, 'Year')"
      ]
     },
     "execution_count": 256,
     "metadata": {},
     "output_type": "execute_result"
    },
    {
     "data": {
      "image/png": "[encoded data removed]",
      "text/plain": [
       "<Figure size 864x504 with 1 Axes>"
      ]
     },
     "metadata": {},
     "output_type": "display_data"
    }
   ],
   "source": [
    "fig, axs = plt.subplots(figsize = (12, 7))\n",
    "plt.title('Proportion of Riders by Year', fontsize = 20)\n",
    "sns.lineplot(y = morning_weekday[0],x = morning_weekday.index, label = '7am - 9am')\n",
    "sns.lineplot(y = afternoon_weekday[0],x = afternoon_weekday.index, label = '4pm - 6pm')\n",
    "sns.lineplot(y = off_peak_weekday[0],x = off_peak_weekday.index, label = 'other hours')\n",
    "plt.legend()\n",
    "plt.ylabel('Proportion', fontsize=15)\n",
    "plt.xlabel(\"Year\", fontsize=15)"
   ]
  },
  {
   "cell_type": "code",
   "execution_count": 257,
   "metadata": {
    "scrolled": false
   },
   "outputs": [
    {
     "data": {
      "text/plain": [
       "Text(0.5, 0, 'Time of Day')"
      ]
     },
     "execution_count": 257,
     "metadata": {},
     "output_type": "execute_result"
    },
    {
     "data": {
      "image/png": "[encoded data removed]",
      "text/plain": [
       "<Figure size 504x216 with 1 Axes>"
      ]
     },
     "metadata": {},
     "output_type": "display_data"
    }
   ],
   "source": [
    "fig, axs = plt.subplots(figsize = (7, 3))\n",
    "plt.title('Throughput by Hour in 2018', fontsize = 20)\n",
    "clrs = ['gray' if (x not in [7, 8, 9, 16, 17, 18]) else 'darkred' for x in bart_18.groupby('hour').sum().index]\n",
    "sns.barplot(y = bart_18.groupby('hour').sum()['throughput'], x = bart_18.groupby('hour').sum().index, palette=(clrs))\n",
    "\n",
    "plt.ylabel('Throughput (10 Million)', fontsize=15)\n",
    "plt.xlabel(\"Time of Day\", fontsize=15)"
   ]
  },
  {
   "cell_type": "code",
   "execution_count": null,
   "metadata": {},
   "outputs": [],
   "source": []
  },
  {
   "cell_type": "code",
   "execution_count": null,
   "metadata": {},
   "outputs": [],
   "source": []
  },
  {
   "cell_type": "code",
   "execution_count": null,
   "metadata": {},
   "outputs": [],
   "source": []
  },
  {
   "cell_type": "code",
   "execution_count": null,
   "metadata": {},
   "outputs": [],
   "source": []
  },
  {
   "cell_type": "code",
   "execution_count": 258,
   "metadata": {},
   "outputs": [],
   "source": [
    "# also use august bc it has no holidays, so the data is extremely consistent \n",
    "aug_17 = bart_17[bart_17['month'] == 8]\n",
    "aug_18 = bart_18[bart_18['month'] == 8]\n",
    "\n",
    "# only get the first 4 weeks of august to make sure each day of the week is represented exactly times\n",
    "aug_17 = aug_17[aug_17['day'] <= 28]\n",
    "aug_18 = aug_18[aug_18['day'] <= 28]"
   ]
  },
  {
   "cell_type": "code",
   "execution_count": 259,
   "metadata": {},
   "outputs": [],
   "source": [
    "plots = bart_18.groupby('day_of_week').sum()"
   ]
  },
  {
   "cell_type": "code",
   "execution_count": 275,
   "metadata": {},
   "outputs": [
    {
     "data": {
      "text/plain": [
       "Text(0.5, 0, 'Day of the Week')"
      ]
     },
     "execution_count": 275,
     "metadata": {},
     "output_type": "execute_result"
    },
    {
     "data": {
      "image/png": "[encoded data removed]",
      "text/plain": [
       "<Figure size 936x504 with 1 Axes>"
      ]
     },
     "metadata": {},
     "output_type": "display_data"
    }
   ],
   "source": [
    "fig, axs = plt.subplots(figsize = (13, 7))\n",
    "plt.title('Throughput in 2018 by Day of the Week', fontsize = 20)\n",
    "sns.barplot(data = plots, x = ['Monday', 'Tuesday', 'Wednesday', 'Thursday', 'Friday', 'Saturday', 'Sunday'], y='throughput', palette = 'Blues_r')\n",
    "plt.ylabel('Throughput', fontsize=15)\n",
    "plt.xlabel(\"Day of the Week\", fontsize=15)"
   ]
  },
  {
   "cell_type": "code",
   "execution_count": 19,
   "metadata": {},
   "outputs": [
    {
     "data": {
      "text/html": [
       "<div>\n",
       "<style scoped>\n",
       "    .dataframe tbody tr th:only-of-type {\n",
       "        vertical-align: middle;\n",
       "    }\n",
       "\n",
       "    .dataframe tbody tr th {\n",
       "        vertical-align: top;\n",
       "    }\n",
       "\n",
       "    .dataframe thead th {\n",
       "        text-align: right;\n",
       "    }\n",
       "</style>\n",
       "<table border=\"1\" class=\"dataframe\">\n",
       "  <thead>\n",
       "    <tr style=\"text-align: right;\">\n",
       "      <th></th>\n",
       "      <th>day_of_week</th>\n",
       "      <th>throughput</th>\n",
       "    </tr>\n",
       "  </thead>\n",
       "  <tbody>\n",
       "    <tr>\n",
       "      <th>0</th>\n",
       "      <td>0</td>\n",
       "      <td>1625602</td>\n",
       "    </tr>\n",
       "    <tr>\n",
       "      <th>1</th>\n",
       "      <td>1</td>\n",
       "      <td>1721174</td>\n",
       "    </tr>\n",
       "    <tr>\n",
       "      <th>2</th>\n",
       "      <td>2</td>\n",
       "      <td>1720498</td>\n",
       "    </tr>\n",
       "    <tr>\n",
       "      <th>3</th>\n",
       "      <td>3</td>\n",
       "      <td>1697772</td>\n",
       "    </tr>\n",
       "    <tr>\n",
       "      <th>4</th>\n",
       "      <td>4</td>\n",
       "      <td>1623642</td>\n",
       "    </tr>\n",
       "    <tr>\n",
       "      <th>5</th>\n",
       "      <td>5</td>\n",
       "      <td>639215</td>\n",
       "    </tr>\n",
       "    <tr>\n",
       "      <th>6</th>\n",
       "      <td>6</td>\n",
       "      <td>469205</td>\n",
       "    </tr>\n",
       "  </tbody>\n",
       "</table>\n",
       "</div>"
      ],
      "text/plain": [
       "   day_of_week  throughput\n",
       "0            0     1625602\n",
       "1            1     1721174\n",
       "2            2     1720498\n",
       "3            3     1697772\n",
       "4            4     1623642\n",
       "5            5      639215\n",
       "6            6      469205"
      ]
     },
     "execution_count": 19,
     "metadata": {},
     "output_type": "execute_result"
    }
   ],
   "source": [
    "aug_18.groupby('day_of_week').sum()[['throughput']].reset_index()"
   ]
  },
  {
   "cell_type": "markdown",
   "metadata": {},
   "source": [
    "## Sunday vs Rest of the Week Analysis"
   ]
  },
  {
   "cell_type": "code",
   "execution_count": 20,
   "metadata": {
    "scrolled": false
   },
   "outputs": [
    {
     "data": {
      "text/html": [
       "<div>\n",
       "<style scoped>\n",
       "    .dataframe tbody tr th:only-of-type {\n",
       "        vertical-align: middle;\n",
       "    }\n",
       "\n",
       "    .dataframe tbody tr th {\n",
       "        vertical-align: top;\n",
       "    }\n",
       "\n",
       "    .dataframe thead th {\n",
       "        text-align: right;\n",
       "    }\n",
       "</style>\n",
       "<table border=\"1\" class=\"dataframe\">\n",
       "  <thead>\n",
       "    <tr style=\"text-align: right;\">\n",
       "      <th></th>\n",
       "      <th>date</th>\n",
       "      <th>month</th>\n",
       "      <th>day</th>\n",
       "      <th>hour</th>\n",
       "      <th>day_of_week</th>\n",
       "      <th>start</th>\n",
       "      <th>destination</th>\n",
       "      <th>throughput</th>\n",
       "    </tr>\n",
       "  </thead>\n",
       "  <tbody>\n",
       "    <tr>\n",
       "      <th>5871747</th>\n",
       "      <td>2018-08-01</td>\n",
       "      <td>8</td>\n",
       "      <td>1</td>\n",
       "      <td>0</td>\n",
       "      <td>2</td>\n",
       "      <td>12TH</td>\n",
       "      <td>12TH</td>\n",
       "      <td>1</td>\n",
       "    </tr>\n",
       "    <tr>\n",
       "      <th>5871748</th>\n",
       "      <td>2018-08-01</td>\n",
       "      <td>8</td>\n",
       "      <td>1</td>\n",
       "      <td>0</td>\n",
       "      <td>2</td>\n",
       "      <td>12TH</td>\n",
       "      <td>24TH</td>\n",
       "      <td>1</td>\n",
       "    </tr>\n",
       "    <tr>\n",
       "      <th>5871749</th>\n",
       "      <td>2018-08-01</td>\n",
       "      <td>8</td>\n",
       "      <td>1</td>\n",
       "      <td>0</td>\n",
       "      <td>2</td>\n",
       "      <td>12TH</td>\n",
       "      <td>ANTI</td>\n",
       "      <td>1</td>\n",
       "    </tr>\n",
       "    <tr>\n",
       "      <th>5871750</th>\n",
       "      <td>2018-08-01</td>\n",
       "      <td>8</td>\n",
       "      <td>1</td>\n",
       "      <td>0</td>\n",
       "      <td>2</td>\n",
       "      <td>12TH</td>\n",
       "      <td>BAYF</td>\n",
       "      <td>3</td>\n",
       "    </tr>\n",
       "    <tr>\n",
       "      <th>5871751</th>\n",
       "      <td>2018-08-01</td>\n",
       "      <td>8</td>\n",
       "      <td>1</td>\n",
       "      <td>0</td>\n",
       "      <td>2</td>\n",
       "      <td>12TH</td>\n",
       "      <td>DALY</td>\n",
       "      <td>2</td>\n",
       "    </tr>\n",
       "  </tbody>\n",
       "</table>\n",
       "</div>"
      ],
      "text/plain": [
       "              date  month  day  hour  day_of_week start destination  \\\n",
       "5871747 2018-08-01      8    1     0            2  12TH        12TH   \n",
       "5871748 2018-08-01      8    1     0            2  12TH        24TH   \n",
       "5871749 2018-08-01      8    1     0            2  12TH        ANTI   \n",
       "5871750 2018-08-01      8    1     0            2  12TH        BAYF   \n",
       "5871751 2018-08-01      8    1     0            2  12TH        DALY   \n",
       "\n",
       "         throughput  \n",
       "5871747           1  \n",
       "5871748           1  \n",
       "5871749           1  \n",
       "5871750           3  \n",
       "5871751           2  "
      ]
     },
     "execution_count": 20,
     "metadata": {},
     "output_type": "execute_result"
    }
   ],
   "source": [
    "aug_18.head()"
   ]
  },
  {
   "cell_type": "markdown",
   "metadata": {},
   "source": [
    "take only the trips that require a single train on sundays, and compare the amount of throughput. Do a permutation test accordingly. So itll look like:\n",
    "\n",
    "no_transfer = only trips, of all days, that take no transfers to get to where you want. then segregate it by Weekdays, Saturday, Sunday;\n",
    "- no_transfer_week\n",
    "- no_transfer_sat\n",
    "- no_transfer_sun\n",
    "do a groupby on the day of the week.sum()\n",
    "\n",
    "yes_transfer = all trips that do require a transfer (on sunday) then segregate it again\n",
    "- transfer_week\n",
    "- transfer_sat\n",
    "- transfer_sun\n",
    "\n",
    "\n"
   ]
  },
  {
   "cell_type": "code",
   "execution_count": 21,
   "metadata": {},
   "outputs": [],
   "source": [
    "# Train stations that require no transfers, assuming the Start and Destination both belong to the same line\n",
    "yellow_line = [\n",
    "    'MLBR', 'SFIA', 'SBRN', 'SSAN', 'COLM', 'DALY','BALB', 'GLEN', '24TH', '16TH', 'CIVC','POWL', 'MONT', 'EMBR',\\\n",
    "    'ANTC', 'PCTR', 'PITT', 'NCON', 'CONC', 'ANTI','ORIN', 'LAFY', 'WCRK', 'PHIL',\\\n",
    "    'ROCK', 'MCAR', '19TH', '12TH'\n",
    "]\n",
    "orange_line = [\n",
    "    'HAYW','SHAY','UCTY','FRMT', 'WARM', 'WSPR','RICH', 'DELN', 'PLZA','NBRK','DBRK','ASHB',\\\n",
    "    \"MCAR\", '12TH', '19TH','LAKE','FTVL','COLS', 'SANL','BAYF'\n",
    "]\n",
    "blue_line = [\n",
    "    'CAST', 'WDUB', 'DUBL', \"MCAR\", '12TH', '19TH', 'LAKE','FTVL','COLS','SANL','BAYF'\n",
    "]"
   ]
  },
  {
   "cell_type": "code",
   "execution_count": 22,
   "metadata": {},
   "outputs": [],
   "source": [
    "def get_no_transfers(df):\n",
    "    \"\"\"\n",
    "    Takes df and adds a new column that indicates whether or not the trip requires a train transfer,\n",
    "    assuming it runs on a Sunday train schedule\n",
    "    \"\"\"\n",
    "    yellow = df[['start', 'destination']].isin(yellow_line) & df[['start', 'destination']].isin(yellow_line)\n",
    "    yellow['yellow'] = yellow['start'] & yellow['destination']\n",
    "\n",
    "    orange = df[['start', 'destination']].isin(orange_line) & df[['start', 'destination']].isin(orange_line)\n",
    "    orange['orange'] = orange['start'] & orange['destination']\n",
    "\n",
    "    blue = df[['start', 'destination']].isin(blue_line) & df[['start', 'destination']].isin(blue_line)\n",
    "    blue['blue'] = blue['start'] & blue['destination']\n",
    "\n",
    "    condition = pd.concat([yellow['yellow'], orange['orange'], blue['blue']], axis = 1)\n",
    "    condition['no_transfer'] = condition['yellow'] | condition['orange'] | condition['blue']\n",
    "    df['no_transfer'] = condition['no_transfer']\n",
    "    return df"
   ]
  },
  {
   "cell_type": "code",
   "execution_count": 47,
   "metadata": {},
   "outputs": [],
   "source": [
    "aug_17 = get_no_transfers(aug_17)\n",
    "aug_18 = get_no_transfers(aug_18)"
   ]
  },
  {
   "cell_type": "code",
   "execution_count": 89,
   "metadata": {},
   "outputs": [],
   "source": [
    "tr_18 = get_no_transfers(bart_18)"
   ]
  },
  {
   "cell_type": "code",
   "execution_count": null,
   "metadata": {},
   "outputs": [],
   "source": []
  },
  {
   "cell_type": "code",
   "execution_count": null,
   "metadata": {},
   "outputs": [],
   "source": []
  },
  {
   "cell_type": "markdown",
   "metadata": {},
   "source": [
    "## More experimental Design\n",
    "write a permutation test that showcases how the proportion of rides on sundays for transfers actually increases instead of decreases, alpha = 0.05.\n",
    "\n",
    "This means that people seem to be undeterred by the fact that they have to transfer, otherwise we should be seeing a decrease in the number of rides that require a transfer. Transferring means that they have to physically change stations and denotes a longer commute time.\n",
    "\n",
    "But we are able to show that the kinds of riders who ride on Saturday are similar to the kinds of people who ride on Sunday as opposed to the weekdays, then it can be another reason why changing Saturday schedules to sunday schedules are appropriate.\n",
    "\n",
    "We can do this by showcasing the times in which people make their rides. since you had classified before hand the regions in which people ride from, then we can do a permutation test to see the number of rides that occur."
   ]
  },
  {
   "cell_type": "code",
   "execution_count": 90,
   "metadata": {},
   "outputs": [],
   "source": [
    "t_18 = tr_18.copy()\n",
    "t_18 = t_18[['day_of_week','start', 'destination', 'throughput', 'no_transfer']]"
   ]
  },
  {
   "cell_type": "markdown",
   "metadata": {},
   "source": [
    "# Permutation Test on Transfers"
   ]
  },
  {
   "cell_type": "markdown",
   "metadata": {},
   "source": [
    "### Observed Statistic"
   ]
  },
  {
   "cell_type": "code",
   "execution_count": 91,
   "metadata": {},
   "outputs": [
    {
     "data": {
      "text/plain": [
       "0.05207668451600121"
      ]
     },
     "execution_count": 91,
     "metadata": {},
     "output_type": "execute_result"
    }
   ],
   "source": [
    "no_transfer_18 = t_18[t_18['no_transfer'] == True].drop(columns = ['no_transfer'])\n",
    "no_transfer_18 = no_transfer_18.groupby('day_of_week').sum()[['throughput']]\n",
    "no_transfer_18['throughput'] = no_transfer_18['throughput']/no_transfer_18['throughput'].sum()\n",
    "no_transfer_2018_sunday = no_transfer_18.iloc[6]['throughput']\n",
    "no_transfer_2018_sunday\n",
    "# interpretation: of all the rides that do not require a transfer on a sunday (and not on any other day), \n",
    "# Sunday accounts for 5.20% of them."
   ]
  },
  {
   "cell_type": "code",
   "execution_count": 92,
   "metadata": {},
   "outputs": [
    {
     "data": {
      "text/plain": [
       "0.05450430798863394"
      ]
     },
     "execution_count": 92,
     "metadata": {},
     "output_type": "execute_result"
    }
   ],
   "source": [
    "transfer_18 = t_18[t_18['no_transfer'] == False].drop(columns = ['no_transfer'])\n",
    "transfer_18 = transfer_18.groupby('day_of_week').sum()[['throughput']]\n",
    "transfer_18['throughput'] = transfer_18['throughput']/transfer_18['throughput'].sum()\n",
    "transfer_2018_sunday = transfer_18.iloc[6]['throughput']\n",
    "transfer_2018_sunday\n",
    "# interpretation: of all the rides that require a transfer on a sunday (and not on any other day), \n",
    "# Sunday accounts for 5.45% of them."
   ]
  },
  {
   "cell_type": "code",
   "execution_count": 60,
   "metadata": {
    "scrolled": true
   },
   "outputs": [
    {
     "data": {
      "text/plain": [
       "-0.0024276234726327284"
      ]
     },
     "execution_count": 60,
     "metadata": {},
     "output_type": "execute_result"
    }
   ],
   "source": [
    "# observed value:\n",
    "no_transfer_2018_sunday - transfer_2018_sunday"
   ]
  },
  {
   "cell_type": "markdown",
   "metadata": {},
   "source": [
    "### Calculate one test statistic"
   ]
  },
  {
   "cell_type": "code",
   "execution_count": 112,
   "metadata": {},
   "outputs": [
    {
     "name": "stdout",
     "output_type": "stream",
     "text": [
      "Wall time: 0 ns\n"
     ]
    }
   ],
   "source": [
    "def transfer_permutation_test(t_18):\n",
    "    shuffle = t_18['no_transfer'].sample(replace = False, frac = 1).reset_index(drop = True)\n",
    "    shuffled_original = t_18.assign(**{'no_transfer': shuffle})\n",
    "    \n",
    "    no_transfer_18 = shuffled_original[shuffled_original['no_transfer'] == True]#.drop(columns = ['no_transfer'])\n",
    "    no_transfer_18 = no_transfer_18.groupby('day_of_week').sum()[['throughput']]\n",
    "    no_transfer_18['throughput'] = no_transfer_18['throughput']/no_transfer_18['throughput'].sum()\n",
    "    #print(no_transfer_18['throughput'])\n",
    "    no_transfer_2018_sunday = no_transfer_18.iloc[6]['throughput']\n",
    "\n",
    "    transfer_18 = shuffled_original[shuffled_original['no_transfer'] == False]#.drop(columns = ['no_transfer'])\n",
    "    transfer_18 = transfer_18.groupby('day_of_week').sum()[['throughput']]\n",
    "    transfer_18['throughput'] = transfer_18['throughput']/transfer_18['throughput'].sum()\n",
    "    transfer_2018_sunday = transfer_18.iloc[6]['throughput']\n",
    "    return no_transfer_2018_sunday - transfer_2018_sunday"
   ]
  },
  {
   "cell_type": "code",
   "execution_count": 113,
   "metadata": {
    "scrolled": true
   },
   "outputs": [
    {
     "data": {
      "text/plain": [
       "0.00011577792781748697"
      ]
     },
     "execution_count": 113,
     "metadata": {},
     "output_type": "execute_result"
    }
   ],
   "source": [
    "transfer_permutation_test(t_18)"
   ]
  },
  {
   "cell_type": "markdown",
   "metadata": {},
   "source": [
    "### Avoid running this cell b/c 20 minute simulation time"
   ]
  },
  {
   "cell_type": "code",
   "execution_count": 118,
   "metadata": {},
   "outputs": [
    {
     "name": "stdout",
     "output_type": "stream",
     "text": [
      "Wall time: 20min 1s\n"
     ]
    }
   ],
   "source": [
    "# %%time\n",
    "# shuffle = []\n",
    "# for i in range(500):\n",
    "#     shuffle.append(transfer_permutation_test(t_18))"
   ]
  },
  {
   "cell_type": "code",
   "execution_count": 126,
   "metadata": {},
   "outputs": [
    {
     "data": {
      "text/plain": [
       "Text(0.5, 0, 'Difference Between Transfer & Non-Transfer')"
      ]
     },
     "execution_count": 126,
     "metadata": {},
     "output_type": "execute_result"
    },
    {
     "data": {
      "image/png": "[encoded data removed]",
      "text/plain": [
       "<Figure size 504x288 with 1 Axes>"
      ]
     },
     "metadata": {
      "needs_background": "light"
     },
     "output_type": "display_data"
    }
   ],
   "source": [
    "fig, axs = plt.subplots(figsize = (7, 4))\n",
    "plt.title('A/B Test on Transfer vs Non-Transfer Rides', fontsize = 20)\n",
    "sns.distplot(shuffle, hist = True)\n",
    "plt.axvline(-0.0024276234726327284, 0, 2, color = 'red')\n",
    "plt.ylabel('Density', fontsize=15)\n",
    "plt.xlabel(\"Difference Between Transfer & Non-Transfer\", fontsize=15)"
   ]
  },
  {
   "cell_type": "code",
   "execution_count": 129,
   "metadata": {},
   "outputs": [
    {
     "data": {
      "text/plain": [
       "500"
      ]
     },
     "execution_count": 129,
     "metadata": {},
     "output_type": "execute_result"
    }
   ],
   "source": [
    "np.count_nonzero(shuffle > no_transfer_2018_sunday - transfer_2018_sunday)"
   ]
  },
  {
   "cell_type": "code",
   "execution_count": null,
   "metadata": {},
   "outputs": [],
   "source": []
  },
  {
   "cell_type": "markdown",
   "metadata": {},
   "source": [
    "## Difference in Region A/B Test"
   ]
  },
  {
   "cell_type": "code",
   "execution_count": 221,
   "metadata": {},
   "outputs": [
    {
     "data": {
      "text/html": [
       "<div>\n",
       "<style scoped>\n",
       "    .dataframe tbody tr th:only-of-type {\n",
       "        vertical-align: middle;\n",
       "    }\n",
       "\n",
       "    .dataframe tbody tr th {\n",
       "        vertical-align: top;\n",
       "    }\n",
       "\n",
       "    .dataframe thead th {\n",
       "        text-align: right;\n",
       "    }\n",
       "</style>\n",
       "<table border=\"1\" class=\"dataframe\">\n",
       "  <thead>\n",
       "    <tr style=\"text-align: right;\">\n",
       "      <th></th>\n",
       "      <th>day_of_week</th>\n",
       "      <th>start</th>\n",
       "      <th>throughput</th>\n",
       "    </tr>\n",
       "  </thead>\n",
       "  <tbody>\n",
       "    <tr>\n",
       "      <th>0</th>\n",
       "      <td>0</td>\n",
       "      <td>12TH</td>\n",
       "      <td>3</td>\n",
       "    </tr>\n",
       "    <tr>\n",
       "      <th>1</th>\n",
       "      <td>0</td>\n",
       "      <td>12TH</td>\n",
       "      <td>1</td>\n",
       "    </tr>\n",
       "    <tr>\n",
       "      <th>2</th>\n",
       "      <td>0</td>\n",
       "      <td>12TH</td>\n",
       "      <td>1</td>\n",
       "    </tr>\n",
       "    <tr>\n",
       "      <th>3</th>\n",
       "      <td>0</td>\n",
       "      <td>12TH</td>\n",
       "      <td>3</td>\n",
       "    </tr>\n",
       "    <tr>\n",
       "      <th>4</th>\n",
       "      <td>0</td>\n",
       "      <td>12TH</td>\n",
       "      <td>2</td>\n",
       "    </tr>\n",
       "  </tbody>\n",
       "</table>\n",
       "</div>"
      ],
      "text/plain": [
       "   day_of_week start  throughput\n",
       "0            0  12TH           3\n",
       "1            0  12TH           1\n",
       "2            0  12TH           1\n",
       "3            0  12TH           3\n",
       "4            0  12TH           2"
      ]
     },
     "execution_count": 221,
     "metadata": {},
     "output_type": "execute_result"
    }
   ],
   "source": [
    "bart_region = bart_18.copy()\n",
    "bart_region = bart_region[['day_of_week', 'start', 'throughput']]\n",
    "bart_region.head()"
   ]
  },
  {
   "cell_type": "code",
   "execution_count": 292,
   "metadata": {},
   "outputs": [],
   "source": [
    "sun_18 = bart_region[bart_region['day_of_week'] == 6].groupby('start').sum()[['throughput']]\n",
    "sat_18 = bart_region[bart_region['day_of_week'] == 5].groupby('start').sum()[['throughput']]\n",
    "weekday_18 = bart_region[(bart_region['day_of_week'] != 5) & (bart_region['day_of_week'] != 6)].groupby('start').sum()[['throughput']]\n",
    "district_lst = []\n",
    "\n",
    "for i in sun_18.iterrows():\n",
    "    district_lst.append(bart_district[i[0]])\n",
    "sun_18['district'] = district_lst\n",
    "sat_18['district'] = district_lst\n",
    "weekday_18['district'] = district_lst\n",
    "    \n",
    "sat_18 = sat_18.reset_index().groupby('district').sum()[['throughput']]\n",
    "sat_18['throughput'] = sat_18['throughput']/sat_18['throughput'].sum()\n",
    "\n",
    "sun_18 = sun_18.reset_index().groupby('district').sum()[['throughput']]\n",
    "sun_18['throughput'] = sun_18['throughput']/sun_18['throughput'].sum()\n",
    "\n",
    "weekday_18 = weekday_18.reset_index().groupby('district').sum()[['throughput']]\n",
    "weekday_18['throughput'] = weekday_18['throughput']/weekday_18['throughput'].sum()\n",
    "sun_sat = (abs(sun_18 - sat_18)).sum()\n",
    "sun_weekday = (abs(sun_18 - weekday_18)).sum()"
   ]
  },
  {
   "cell_type": "code",
   "execution_count": 276,
   "metadata": {},
   "outputs": [],
   "source": [
    "def sunday_difference_null_hypothesis(bart_region):\n",
    "    shuffle = bart_region['day_of_week'].sample(replace = False, frac = 1).reset_index(drop = True)\n",
    "    bart_region = bart_region.assign(**{'day_of_week': shuffle})\n",
    "    sun_18 = bart_region[bart_region['day_of_week'] == 6].groupby('start').sum()[['throughput']]\n",
    "    sat_18 = bart_region[bart_region['day_of_week'] == 5].groupby('start').sum()[['throughput']]\n",
    "    weekday_18 = bart_region[(bart_region['day_of_week'] != 5) & (bart_region['day_of_week'] != 6)].groupby('start').sum()[['throughput']]\n",
    "    district_lst = []\n",
    "\n",
    "    for i in sun_18.iterrows():\n",
    "        district_lst.append(bart_district[i[0]])\n",
    "    sun_18['district'] = district_lst\n",
    "    sat_18['district'] = district_lst\n",
    "    weekday_18['district'] = district_lst\n",
    "    \n",
    "    sat_18 = sat_18.reset_index().groupby('district').sum()[['throughput']]\n",
    "    sat_18['throughput'] = sat_18['throughput']/sat_18['throughput'].sum()\n",
    "\n",
    "    sun_18 = sun_18.reset_index().groupby('district').sum()[['throughput']]\n",
    "    sun_18['throughput'] = sun_18['throughput']/sun_18['throughput'].sum()\n",
    "\n",
    "    weekday_18 = weekday_18.reset_index().groupby('district').sum()[['throughput']]\n",
    "    weekday_18['throughput'] = weekday_18['throughput']/weekday_18['throughput'].sum()\n",
    "    sun_sat = (abs(sun_18 - sat_18)).sum()\n",
    "    sun_weekday = (abs(sun_18 - weekday_18)).sum()\n",
    "    return sun_sat - sun_weekday"
   ]
  },
  {
   "cell_type": "code",
   "execution_count": 285,
   "metadata": {},
   "outputs": [
    {
     "data": {
      "text/plain": [
       "throughput    0.000385\n",
       "dtype: float64"
      ]
     },
     "execution_count": 285,
     "metadata": {},
     "output_type": "execute_result"
    }
   ],
   "source": [
    "sunday_difference_null_hypothesis(bart_region)"
   ]
  },
  {
   "cell_type": "markdown",
   "metadata": {},
   "source": [
    "### Don't run this bc it takes 24 minutes"
   ]
  },
  {
   "cell_type": "code",
   "execution_count": 232,
   "metadata": {},
   "outputs": [
    {
     "name": "stdout",
     "output_type": "stream",
     "text": [
      "Wall time: 24min 21s\n"
     ]
    }
   ],
   "source": [
    "# %%time\n",
    "# sunday_hypo = []\n",
    "# for i in range(500):\n",
    "#     sunday_hypo.append(sunday_difference_null_hypothesis(bart_region))"
   ]
  },
  {
   "cell_type": "code",
   "execution_count": 234,
   "metadata": {},
   "outputs": [
    {
     "data": {
      "text/plain": [
       "Text(0.5, 0, 'Difference Between Sun/Sat vs Sun/Weekday')"
      ]
     },
     "execution_count": 234,
     "metadata": {},
     "output_type": "execute_result"
    },
    {
     "data": {
      "image/png": "[encoded data removed]",
      "text/plain": [
       "<Figure size 1008x504 with 1 Axes>"
      ]
     },
     "metadata": {
      "needs_background": "light"
     },
     "output_type": "display_data"
    }
   ],
   "source": [
    "fig, axs = plt.subplots(figsize = (14, 7))\n",
    "plt.title('A/B Test on Sun/Sat vs Sun/Weekday', fontsize = 20)\n",
    "sns.distplot(sunday_hypo, hist = True)\n",
    "plt.axvline(0.041435, 0, 2, color = 'red')\n",
    "plt.ylabel('Density', fontsize=15)\n",
    "plt.xlabel(\"Difference Between Sun/Sat vs Sun/Weekday\", fontsize=15)"
   ]
  },
  {
   "cell_type": "code",
   "execution_count": 295,
   "metadata": {},
   "outputs": [
    {
     "data": {
      "text/html": [
       "<div>\n",
       "<style scoped>\n",
       "    .dataframe tbody tr th:only-of-type {\n",
       "        vertical-align: middle;\n",
       "    }\n",
       "\n",
       "    .dataframe tbody tr th {\n",
       "        vertical-align: top;\n",
       "    }\n",
       "\n",
       "    .dataframe thead th {\n",
       "        text-align: right;\n",
       "    }\n",
       "</style>\n",
       "<table border=\"1\" class=\"dataframe\">\n",
       "  <thead>\n",
       "    <tr style=\"text-align: right;\">\n",
       "      <th></th>\n",
       "      <th>throughput</th>\n",
       "    </tr>\n",
       "    <tr>\n",
       "      <th>district</th>\n",
       "      <th></th>\n",
       "    </tr>\n",
       "  </thead>\n",
       "  <tbody>\n",
       "    <tr>\n",
       "      <th>Central Alameda</th>\n",
       "      <td>-0.000138</td>\n",
       "    </tr>\n",
       "    <tr>\n",
       "      <th>East Alameda</th>\n",
       "      <td>-0.000032</td>\n",
       "    </tr>\n",
       "    <tr>\n",
       "      <th>East Contra Costa</th>\n",
       "      <td>0.000982</td>\n",
       "    </tr>\n",
       "    <tr>\n",
       "      <th>North Alameda</th>\n",
       "      <td>0.000331</td>\n",
       "    </tr>\n",
       "    <tr>\n",
       "      <th>San Francisco</th>\n",
       "      <td>-0.002058</td>\n",
       "    </tr>\n",
       "    <tr>\n",
       "      <th>South Alameda</th>\n",
       "      <td>0.000413</td>\n",
       "    </tr>\n",
       "    <tr>\n",
       "      <th>South San Francisco</th>\n",
       "      <td>0.000900</td>\n",
       "    </tr>\n",
       "    <tr>\n",
       "      <th>West Contra Costa</th>\n",
       "      <td>-0.000397</td>\n",
       "    </tr>\n",
       "  </tbody>\n",
       "</table>\n",
       "</div>"
      ],
      "text/plain": [
       "                     throughput\n",
       "district                       \n",
       "Central Alameda       -0.000138\n",
       "East Alameda          -0.000032\n",
       "East Contra Costa      0.000982\n",
       "North Alameda          0.000331\n",
       "San Francisco         -0.002058\n",
       "South Alameda          0.000413\n",
       "South San Francisco    0.000900\n",
       "West Contra Costa     -0.000397"
      ]
     },
     "execution_count": 295,
     "metadata": {},
     "output_type": "execute_result"
    }
   ],
   "source": [
    "weekends = sun_18 - sat_18\n",
    "weekends"
   ]
  },
  {
   "cell_type": "code",
   "execution_count": 296,
   "metadata": {},
   "outputs": [
    {
     "data": {
      "text/html": [
       "<div>\n",
       "<style scoped>\n",
       "    .dataframe tbody tr th:only-of-type {\n",
       "        vertical-align: middle;\n",
       "    }\n",
       "\n",
       "    .dataframe tbody tr th {\n",
       "        vertical-align: top;\n",
       "    }\n",
       "\n",
       "    .dataframe thead th {\n",
       "        text-align: right;\n",
       "    }\n",
       "</style>\n",
       "<table border=\"1\" class=\"dataframe\">\n",
       "  <thead>\n",
       "    <tr style=\"text-align: right;\">\n",
       "      <th></th>\n",
       "      <th>throughput</th>\n",
       "    </tr>\n",
       "    <tr>\n",
       "      <th>district</th>\n",
       "      <th></th>\n",
       "    </tr>\n",
       "  </thead>\n",
       "  <tbody>\n",
       "    <tr>\n",
       "      <th>Central Alameda</th>\n",
       "      <td>-0.000908</td>\n",
       "    </tr>\n",
       "    <tr>\n",
       "      <th>East Alameda</th>\n",
       "      <td>-0.000759</td>\n",
       "    </tr>\n",
       "    <tr>\n",
       "      <th>East Contra Costa</th>\n",
       "      <td>0.000643</td>\n",
       "    </tr>\n",
       "    <tr>\n",
       "      <th>North Alameda</th>\n",
       "      <td>0.000244</td>\n",
       "    </tr>\n",
       "    <tr>\n",
       "      <th>San Francisco</th>\n",
       "      <td>-0.000488</td>\n",
       "    </tr>\n",
       "    <tr>\n",
       "      <th>South Alameda</th>\n",
       "      <td>0.000151</td>\n",
       "    </tr>\n",
       "    <tr>\n",
       "      <th>South San Francisco</th>\n",
       "      <td>0.001249</td>\n",
       "    </tr>\n",
       "    <tr>\n",
       "      <th>West Contra Costa</th>\n",
       "      <td>-0.000132</td>\n",
       "    </tr>\n",
       "  </tbody>\n",
       "</table>\n",
       "</div>"
      ],
      "text/plain": [
       "                     throughput\n",
       "district                       \n",
       "Central Alameda       -0.000908\n",
       "East Alameda          -0.000759\n",
       "East Contra Costa      0.000643\n",
       "North Alameda          0.000244\n",
       "San Francisco         -0.000488\n",
       "South Alameda          0.000151\n",
       "South San Francisco    0.001249\n",
       "West Contra Costa     -0.000132"
      ]
     },
     "execution_count": 296,
     "metadata": {},
     "output_type": "execute_result"
    }
   ],
   "source": [
    "weekend_weekday = sun_18 - weekday_18\n",
    "weekend_weekday"
   ]
  },
  {
   "cell_type": "code",
   "execution_count": 287,
   "metadata": {},
   "outputs": [],
   "source": [
    "sun_sat = (abs(sun_18 - sat_18)).sum()"
   ]
  },
  {
   "cell_type": "code",
   "execution_count": 288,
   "metadata": {},
   "outputs": [],
   "source": [
    "sun_weekday = (abs(sun_18 - weekday_18)).sum()"
   ]
  },
  {
   "cell_type": "code",
   "execution_count": 289,
   "metadata": {},
   "outputs": [
    {
     "data": {
      "text/plain": [
       "throughput    0.005251\n",
       "dtype: float64"
      ]
     },
     "execution_count": 289,
     "metadata": {},
     "output_type": "execute_result"
    }
   ],
   "source": [
    "sun_sat"
   ]
  },
  {
   "cell_type": "code",
   "execution_count": 290,
   "metadata": {},
   "outputs": [
    {
     "data": {
      "text/plain": [
       "throughput    0.004574\n",
       "dtype: float64"
      ]
     },
     "execution_count": 290,
     "metadata": {},
     "output_type": "execute_result"
    }
   ],
   "source": [
    "sun_weekday"
   ]
  },
  {
   "cell_type": "code",
   "execution_count": 301,
   "metadata": {},
   "outputs": [
    {
     "data": {
      "text/plain": [
       "Text(0.5, 0, 'Difference in Throughput Proportion')"
      ]
     },
     "execution_count": 301,
     "metadata": {},
     "output_type": "execute_result"
    },
    {
     "data": {
      "image/png": "[encoded data removed]",
      "text/plain": [
       "<Figure size 864x504 with 1 Axes>"
      ]
     },
     "metadata": {},
     "output_type": "display_data"
    }
   ],
   "source": [
    "fig, axs = plt.subplots(figsize = (12, 7))\n",
    "plt.title('Difference in Start Point b/t Sunday and Saturday', fontsize = 20)\n",
    "sns.barplot(y = weekends.index, x = weekends['throughput'])\n",
    "plt.ylabel('District', fontsize=15)\n",
    "plt.xlabel(\"Difference in Throughput Proportion\", fontsize=15)"
   ]
  },
  {
   "cell_type": "code",
   "execution_count": 302,
   "metadata": {},
   "outputs": [
    {
     "data": {
      "text/plain": [
       "Text(0.5, 0, 'Difference in Throughput Proportion')"
      ]
     },
     "execution_count": 302,
     "metadata": {},
     "output_type": "execute_result"
    },
    {
     "data": {
      "image/png": "[encoded data removed]",
      "text/plain": [
       "<Figure size 864x504 with 1 Axes>"
      ]
     },
     "metadata": {},
     "output_type": "display_data"
    }
   ],
   "source": [
    "fig, axs = plt.subplots(figsize = (12, 7))\n",
    "plt.title('Difference in Start Point b/t Sunday and Weekdays', fontsize = 20)\n",
    "sns.barplot(y = weekend_weekday.index, x = weekend_weekday['throughput'])\n",
    "plt.ylabel('District', fontsize=15)\n",
    "plt.xlabel(\"Difference in Throughput Proportion\", fontsize=15)"
   ]
  },
  {
   "cell_type": "code",
   "execution_count": null,
   "metadata": {},
   "outputs": [],
   "source": [
    "morn_dest = jan_2018_morn.groupby('destination').sum()[['throughput']]\n",
    "\n",
    "district_lst = []\n",
    "for i in morn_dest.iterrows():\n",
    "     district_lst.append(bart_district[i[0]])\n",
    "\n",
    "morn_dest['district'] = district_lst\n",
    "morn_dest;"
   ]
  },
  {
   "cell_type": "code",
   "execution_count": null,
   "metadata": {},
   "outputs": [],
   "source": [
    "morn = morn_start.sort_values('throughput', ascending = False)\n",
    "dest = morn_dest.sort_values('throughput', ascending = False) "
   ]
  },
  {
   "cell_type": "code",
   "execution_count": null,
   "metadata": {},
   "outputs": [],
   "source": [
    "fig, axs = plt.subplots(figsize = (15, 3))\n",
    "sns.barplot(y = morn.index[:10], x = morn['throughput'][:10], hue = morn['district'][:10], dodge = False)\n",
    "plt.title('Top Ten Stations Traffic Between 7am-10am [LEAVING]', fontsize = 20)"
   ]
  },
  {
   "cell_type": "code",
   "execution_count": null,
   "metadata": {},
   "outputs": [],
   "source": [
    "fig, axs = plt.subplots(figsize = (15,3))\n",
    "sns.barplot(y = dest.index[:10], x = dest['throughput'][:10], hue = dest['district'][:10], dodge = False)"
   ]
  },
  {
   "cell_type": "code",
   "execution_count": null,
   "metadata": {},
   "outputs": [],
   "source": [
    "dest['throughput'][:10], dest.index[:10]"
   ]
  },
  {
   "cell_type": "code",
   "execution_count": null,
   "metadata": {},
   "outputs": [],
   "source": []
  },
  {
   "cell_type": "code",
   "execution_count": null,
   "metadata": {},
   "outputs": [],
   "source": [
    "# plt.ylabel('Conversion Rate', fontname=\"Arial\", fontsize=15)\n",
    "# plt.xlabel(\"Date\", fontsize=15)\n",
    "# plt.legend(prop = {'size': 14})\n",
    "# plt.title('Conversion Rate by Day', fontsize = 20)"
   ]
  },
  {
   "cell_type": "code",
   "execution_count": null,
   "metadata": {},
   "outputs": [],
   "source": [
    "# # will convert all of the destinations into its respective name\n",
    "# station_dict = {}\n",
    "# for i in station.iterrows():\n",
    "#     station_dict[i[1]['Abbreviation']] = i[1]['Name'][:-7]\n",
    "\n",
    "# station_func = np.vectorize(lambda x: station_dict[x])\n",
    "# bart['start'] = station_func(np.array(bart['start']))\n",
    "# bart['destination'] = station_func(np.array(bart['destination']))"
   ]
  },
  {
   "cell_type": "code",
   "execution_count": null,
   "metadata": {},
   "outputs": [],
   "source": []
  },
  {
   "cell_type": "code",
   "execution_count": null,
   "metadata": {},
   "outputs": [],
   "source": []
  },
  {
   "cell_type": "code",
   "execution_count": null,
   "metadata": {},
   "outputs": [],
   "source": []
  },
  {
   "cell_type": "code",
   "execution_count": null,
   "metadata": {},
   "outputs": [],
   "source": []
  },
  {
   "cell_type": "code",
   "execution_count": null,
   "metadata": {},
   "outputs": [],
   "source": []
  }
 ],
 "metadata": {
  "kernelspec": {
   "display_name": "Python 3",
   "language": "python",
   "name": "python3"
  },
  "language_info": {
   "codemirror_mode": {
    "name": "ipython",
    "version": 3
   },
   "file_extension": ".py",
   "mimetype": "text/x-python",
   "name": "python",
   "nbconvert_exporter": "python",
   "pygments_lexer": "ipython3",
   "version": "3.6.2"
  }
 },
 "nbformat": 4,
 "nbformat_minor": 2
}
