{
 "cells": [
  {
   "cell_type": "markdown",
   "metadata": {},
   "source": [
    "# BART Exploratory Data Analysis"
   ]
  },
  {
   "cell_type": "markdown",
   "metadata": {},
   "source": [
    "Coded by Joshua Chan in 10/2019. Updated 2/2020."
   ]
  },
  {
   "cell_type": "markdown",
   "metadata": {},
   "source": [
    "### Context"
   ]
  },
  {
   "cell_type": "markdown",
   "metadata": {},
   "source": [
    "I grew up in the Bay Area, and I can say with some certainty that me and many of my colleagues have a shared distaste for BART. It can be confusing, unsafe, dirty, and loud--and we're hoping that one day BART will transform into a metro system capable of rivaling the efficient trains systems on the East Coast.\n",
    "\n",
    "BART's weekend train schedule is unintuitive and baffling when first encountering it. Their train schedules are segmented based on the day of the week. It looks like this:\n",
    "- **Weekdays**: All train stations are open. Trains run every 15 minutes. Most trains are 8-10 cars long.\n",
    "- **Saturdays**: All train stations are open. Trains run every 20 minutes. Most trains are 4-6 cars long.\n",
    "- **Sundays**: Some train lines are open. Trains run every 20 minutes. Most trains are 4-6 cars long.\n",
    "\n",
    "It has confused me and my colleagues why Sundays seemed to be running on a significantly reduced schedule. Only half the train lines are available, even though it does not seem like Sunday ridership is significantly different from Sunday ridership. *In this notebook, I investigate whether or not it makes sense for BART to have disjointed train line schedules on Sundays compared to other days.*"
   ]
  },
  {
   "cell_type": "markdown",
   "metadata": {},
   "source": [
    "### Outline"
   ]
  },
  {
   "cell_type": "markdown",
   "metadata": {},
   "source": [
    "0. Setting Up, Data Cleaning\n",
    "1. Preliminary EDA to contextualize the BART system\n",
    "    - First Hypothesis: If we showcase the drop off in Sunday rides because of the transfers, we can justify having full train service for the entire week.\n",
    "    - i.e. {Saturday w/only transfers - Sunday w/only transfers} - {Saturday w/no transfers - Sunday w/ no transfers}\n",
    "    - The result ends up being...about 0, which indicates that people don't really care about the fact that you have to transfer? If people don't really care, then why maintain run a full track schedule over Saturday then?\n",
    "    - What are some of the differences between riding on Sunday then Saturday aside from Train Schedule?\n",
    "4. Experiment Part 2:\n",
    "    - Second Hypothesis: If "
   ]
  },
  {
   "cell_type": "markdown",
   "metadata": {},
   "source": [
    "## 0. Setting Up"
   ]
  },
  {
   "cell_type": "code",
   "execution_count": 13,
   "metadata": {},
   "outputs": [],
   "source": [
    "import pandas as pd\n",
    "import seaborn as sns\n",
    "import numpy as np\n",
    "import matplotlib.pyplot as plt\n",
    "import matplotlib.style as style\n",
    "import datetime\n",
    "import warnings\n",
    "import re\n",
    "\n",
    "sns.set()\n",
    "sns.axes_style(\"darkgrid\")\n",
    "warnings.filterwarnings(\"ignore\", category = FutureWarning)\n",
    "sns.set_context('talk') # Makes the axes labels larger"
   ]
  },
  {
   "cell_type": "code",
   "execution_count": 14,
   "metadata": {},
   "outputs": [],
   "source": [
    "# Add the relevant data sets\n",
    "bart_11 = pd.read_csv('bart_2011.csv', header = None) # 2011 Bart Data\n",
    "bart_12 = pd.read_csv('bart_2012.csv', header = None)\n",
    "bart_13 = pd.read_csv('bart_2013.csv', header = None)\n",
    "bart_14 = pd.read_csv('bart_2014.csv', header = None)\n",
    "bart_15 = pd.read_csv('bart_2015.csv', header = None)\n",
    "bart_16 = pd.read_csv('bart_2016.csv', header = None)\n",
    "bart_17 = pd.read_csv('bart_2017.csv', header = None)\n",
    "bart_18 = pd.read_csv('bart_2018.csv', header = None)\n",
    "station = pd.read_csv('station_info.csv') # Information about what abbreviations are which stations"
   ]
  },
  {
   "cell_type": "code",
   "execution_count": 15,
   "metadata": {},
   "outputs": [
    {
     "data": {
      "text/html": [
       "<div>\n",
       "<style scoped>\n",
       "    .dataframe tbody tr th:only-of-type {\n",
       "        vertical-align: middle;\n",
       "    }\n",
       "\n",
       "    .dataframe tbody tr th {\n",
       "        vertical-align: top;\n",
       "    }\n",
       "\n",
       "    .dataframe thead th {\n",
       "        text-align: right;\n",
       "    }\n",
       "</style>\n",
       "<table border=\"1\" class=\"dataframe\">\n",
       "  <thead>\n",
       "    <tr style=\"text-align: right;\">\n",
       "      <th></th>\n",
       "      <th>0</th>\n",
       "      <th>1</th>\n",
       "      <th>2</th>\n",
       "      <th>3</th>\n",
       "      <th>4</th>\n",
       "    </tr>\n",
       "  </thead>\n",
       "  <tbody>\n",
       "    <tr>\n",
       "      <th>0</th>\n",
       "      <td>2018-01-01</td>\n",
       "      <td>0</td>\n",
       "      <td>12TH</td>\n",
       "      <td>12TH</td>\n",
       "      <td>3</td>\n",
       "    </tr>\n",
       "    <tr>\n",
       "      <th>1</th>\n",
       "      <td>2018-01-01</td>\n",
       "      <td>0</td>\n",
       "      <td>12TH</td>\n",
       "      <td>16TH</td>\n",
       "      <td>1</td>\n",
       "    </tr>\n",
       "    <tr>\n",
       "      <th>2</th>\n",
       "      <td>2018-01-01</td>\n",
       "      <td>0</td>\n",
       "      <td>12TH</td>\n",
       "      <td>BAYF</td>\n",
       "      <td>1</td>\n",
       "    </tr>\n",
       "    <tr>\n",
       "      <th>3</th>\n",
       "      <td>2018-01-01</td>\n",
       "      <td>0</td>\n",
       "      <td>12TH</td>\n",
       "      <td>CAST</td>\n",
       "      <td>3</td>\n",
       "    </tr>\n",
       "    <tr>\n",
       "      <th>4</th>\n",
       "      <td>2018-01-01</td>\n",
       "      <td>0</td>\n",
       "      <td>12TH</td>\n",
       "      <td>CIVC</td>\n",
       "      <td>2</td>\n",
       "    </tr>\n",
       "  </tbody>\n",
       "</table>\n",
       "</div>"
      ],
      "text/plain": [
       "            0  1     2     3  4\n",
       "0  2018-01-01  0  12TH  12TH  3\n",
       "1  2018-01-01  0  12TH  16TH  1\n",
       "2  2018-01-01  0  12TH  BAYF  1\n",
       "3  2018-01-01  0  12TH  CAST  3\n",
       "4  2018-01-01  0  12TH  CIVC  2"
      ]
     },
     "execution_count": 15,
     "metadata": {},
     "output_type": "execute_result"
    }
   ],
   "source": [
    "bart_18.head()"
   ]
  },
  {
   "cell_type": "markdown",
   "metadata": {},
   "source": [
    "####  Cleaning the data"
   ]
  },
  {
   "cell_type": "code",
   "execution_count": 16,
   "metadata": {},
   "outputs": [],
   "source": [
    "bart_districts = {\n",
    "    \"North Alameda\": ['RICH', 'DELN', 'PLZA','NBRK','DBRK','ASHB','ROCK'],\n",
    "    \"East Alameda\": ['CAST', 'WDUB', 'DUBL'],\n",
    "    \"Central Alameda\": [\"MCAR\", '12TH', '19TH', 'WOAK', 'LAKE','FTVL','COLS', 'OAKL', 'SANL','BAYF'],\n",
    "    \"South Alameda\": ['HAYW','SHAY','UCTY','FRMT', 'WARM', 'WSPR'],\n",
    "    \"West Contra Costa\": ['ORIN', 'LAFY', 'WCRK', 'PHIL'],\n",
    "    \"East Contra Costa\": ['ANTC', 'PCTR', 'PITT', 'NCON', 'CONC', 'ANTI'],\n",
    "    \"South San Francisco\": ['MLBR', 'SFIA', 'SBRN', 'SSAN', 'COLM', 'DALY'],\n",
    "    \"San Francisco\": ['BALB', 'GLEN', '24TH', '16TH', 'CIVC','POWL', 'MONT', 'EMBR'],\n",
    "}\n",
    "\n",
    "# Converts the above districts into a {\"RICH\":\"North Alameda\"} dictionary format\n",
    "bart_district = {}\n",
    "for key, value in bart_districts.items():\n",
    "    for i in value:\n",
    "        bart_district[i] = key"
   ]
  },
  {
   "cell_type": "code",
   "execution_count": 17,
   "metadata": {},
   "outputs": [],
   "source": [
    "# There are some new stations not in the station dataframe.\n",
    "# Here, we add the new stations into the station dataframe\n",
    "station = station.append({'Abbreviation':'WSPR', \"Description\": None, \"Location\":None, \"Name\":\"Warm Springs       \"}, ignore_index = True)\n",
    "station = station.append({'Abbreviation':'ANTI', \"Description\": None, \"Location\":None, \"Name\":\"Antioch       \"}, ignore_index = True)"
   ]
  },
  {
   "cell_type": "code",
   "execution_count": 18,
   "metadata": {},
   "outputs": [],
   "source": [
    "# Add month, day, day_of_week dervied columns into the dataframes\n",
    "def expand_date(df):\n",
    "    df.columns = ['date', 'hour', 'start', 'destination', 'throughput']\n",
    "    date = np.array(df['date'])\n",
    "    time = np.apply_along_axis(lambda x: pd.to_datetime(x), 0, date)\n",
    "    day = np.apply_along_axis(lambda x: pd.to_datetime(x).day, 0, date)\n",
    "    month = np.apply_along_axis(lambda x: pd.to_datetime(x).month, 0, date)\n",
    "    day_of_week = np.apply_along_axis(lambda x: pd.to_datetime(x).weekday, 0, date)\n",
    "    df['date'] = time\n",
    "    df['month'] = month\n",
    "    df['day'] = day\n",
    "    df['day_of_week'] = day_of_week\n",
    "    return df[['date','month', 'day', 'hour','day_of_week', 'start', 'destination', 'throughput']]"
   ]
  },
  {
   "cell_type": "code",
   "execution_count": 19,
   "metadata": {},
   "outputs": [],
   "source": [
    "# apply the function on all of the datasets\n",
    "bart_11 = expand_date(bart_11);\n",
    "bart_12 = expand_date(bart_12);\n",
    "bart_13 = expand_date(bart_13);\n",
    "bart_14 = expand_date(bart_14);\n",
    "bart_15 = expand_date(bart_15);\n",
    "bart_16 = expand_date(bart_16);\n",
    "bart_17 = expand_date(bart_17);\n",
    "bart_18 = expand_date(bart_18);"
   ]
  },
  {
   "cell_type": "code",
   "execution_count": 20,
   "metadata": {
    "scrolled": false
   },
   "outputs": [
    {
     "data": {
      "text/html": [
       "<div>\n",
       "<style scoped>\n",
       "    .dataframe tbody tr th:only-of-type {\n",
       "        vertical-align: middle;\n",
       "    }\n",
       "\n",
       "    .dataframe tbody tr th {\n",
       "        vertical-align: top;\n",
       "    }\n",
       "\n",
       "    .dataframe thead th {\n",
       "        text-align: right;\n",
       "    }\n",
       "</style>\n",
       "<table border=\"1\" class=\"dataframe\">\n",
       "  <thead>\n",
       "    <tr style=\"text-align: right;\">\n",
       "      <th></th>\n",
       "      <th>date</th>\n",
       "      <th>month</th>\n",
       "      <th>day</th>\n",
       "      <th>hour</th>\n",
       "      <th>day_of_week</th>\n",
       "      <th>start</th>\n",
       "      <th>destination</th>\n",
       "      <th>throughput</th>\n",
       "    </tr>\n",
       "  </thead>\n",
       "  <tbody>\n",
       "    <tr>\n",
       "      <th>0</th>\n",
       "      <td>2018-01-01</td>\n",
       "      <td>1</td>\n",
       "      <td>1</td>\n",
       "      <td>0</td>\n",
       "      <td>0</td>\n",
       "      <td>12TH</td>\n",
       "      <td>12TH</td>\n",
       "      <td>3</td>\n",
       "    </tr>\n",
       "    <tr>\n",
       "      <th>1</th>\n",
       "      <td>2018-01-01</td>\n",
       "      <td>1</td>\n",
       "      <td>1</td>\n",
       "      <td>0</td>\n",
       "      <td>0</td>\n",
       "      <td>12TH</td>\n",
       "      <td>16TH</td>\n",
       "      <td>1</td>\n",
       "    </tr>\n",
       "    <tr>\n",
       "      <th>2</th>\n",
       "      <td>2018-01-01</td>\n",
       "      <td>1</td>\n",
       "      <td>1</td>\n",
       "      <td>0</td>\n",
       "      <td>0</td>\n",
       "      <td>12TH</td>\n",
       "      <td>BAYF</td>\n",
       "      <td>1</td>\n",
       "    </tr>\n",
       "    <tr>\n",
       "      <th>3</th>\n",
       "      <td>2018-01-01</td>\n",
       "      <td>1</td>\n",
       "      <td>1</td>\n",
       "      <td>0</td>\n",
       "      <td>0</td>\n",
       "      <td>12TH</td>\n",
       "      <td>CAST</td>\n",
       "      <td>3</td>\n",
       "    </tr>\n",
       "    <tr>\n",
       "      <th>4</th>\n",
       "      <td>2018-01-01</td>\n",
       "      <td>1</td>\n",
       "      <td>1</td>\n",
       "      <td>0</td>\n",
       "      <td>0</td>\n",
       "      <td>12TH</td>\n",
       "      <td>CIVC</td>\n",
       "      <td>2</td>\n",
       "    </tr>\n",
       "  </tbody>\n",
       "</table>\n",
       "</div>"
      ],
      "text/plain": [
       "        date  month  day  hour  day_of_week start destination  throughput\n",
       "0 2018-01-01      1    1     0            0  12TH        12TH           3\n",
       "1 2018-01-01      1    1     0            0  12TH        16TH           1\n",
       "2 2018-01-01      1    1     0            0  12TH        BAYF           1\n",
       "3 2018-01-01      1    1     0            0  12TH        CAST           3\n",
       "4 2018-01-01      1    1     0            0  12TH        CIVC           2"
      ]
     },
     "execution_count": 20,
     "metadata": {},
     "output_type": "execute_result"
    }
   ],
   "source": [
    "bart_18.head()"
   ]
  },
  {
   "cell_type": "markdown",
   "metadata": {},
   "source": [
    "## 1. Exploratory Data Analysis\n",
    "Topics Explored:\n",
    "- How has ridership changed throughout the years?\n",
    "- How has the proportion of ridership changed for rush hour throughout the years?\n",
    "- How does ridership change hour by hour?\n",
    "- How does ridership change on weekdays compared to weekends?"
   ]
  },
  {
   "cell_type": "code",
   "execution_count": 21,
   "metadata": {},
   "outputs": [],
   "source": [
    "weekday_11 = bart_11[(bart_11['day_of_week'] != 5) & (bart_11['day_of_week'] != 6)]\n",
    "weekday_12 = bart_12[(bart_12['day_of_week'] != 5) & (bart_12['day_of_week'] != 6)]\n",
    "weekday_13 = bart_13[(bart_13['day_of_week'] != 5) & (bart_13['day_of_week'] != 6)]\n",
    "weekday_14 = bart_14[(bart_14['day_of_week'] != 5) & (bart_14['day_of_week'] != 6)]\n",
    "weekday_15 = bart_15[(bart_15['day_of_week'] != 5) & (bart_15['day_of_week'] != 6)]\n",
    "weekday_16 = bart_16[(bart_16['day_of_week'] != 5) & (bart_16['day_of_week'] != 6)]\n",
    "weekday_17 = bart_17[(bart_17['day_of_week'] != 5) & (bart_17['day_of_week'] != 6)]\n",
    "weekday_18 = bart_18[(bart_18['day_of_week'] != 5) & (bart_18['day_of_week'] != 6)]"
   ]
  },
  {
   "cell_type": "code",
   "execution_count": 22,
   "metadata": {},
   "outputs": [
    {
     "name": "stdout",
     "output_type": "stream",
     "text": [
      "Wall time: 16.3 s\n"
     ]
    }
   ],
   "source": [
    "%%time\n",
    "num_weekday = 260\n",
    "avg_weekday_dict = {}\n",
    "year = 2011\n",
    "for i in [weekday_11, weekday_12, weekday_13, weekday_14, weekday_15, weekday_16, weekday_17, weekday_18]:\n",
    "    avg_weekday_dict[year] = i.groupby('date').sum()['throughput'].sum()/num_weekday\n",
    "    year += 1"
   ]
  },
  {
   "cell_type": "code",
   "execution_count": 23,
   "metadata": {},
   "outputs": [
    {
     "data": {
      "text/html": [
       "<div>\n",
       "<style scoped>\n",
       "    .dataframe tbody tr th:only-of-type {\n",
       "        vertical-align: middle;\n",
       "    }\n",
       "\n",
       "    .dataframe tbody tr th {\n",
       "        vertical-align: top;\n",
       "    }\n",
       "\n",
       "    .dataframe thead th {\n",
       "        text-align: right;\n",
       "    }\n",
       "</style>\n",
       "<table border=\"1\" class=\"dataframe\">\n",
       "  <thead>\n",
       "    <tr style=\"text-align: right;\">\n",
       "      <th></th>\n",
       "      <th>0</th>\n",
       "    </tr>\n",
       "  </thead>\n",
       "  <tbody>\n",
       "    <tr>\n",
       "      <th>2011</th>\n",
       "      <td>348147.461538</td>\n",
       "    </tr>\n",
       "    <tr>\n",
       "      <th>2012</th>\n",
       "      <td>374562.719231</td>\n",
       "    </tr>\n",
       "    <tr>\n",
       "      <th>2013</th>\n",
       "      <td>378687.430769</td>\n",
       "    </tr>\n",
       "    <tr>\n",
       "      <th>2014</th>\n",
       "      <td>404353.319231</td>\n",
       "    </tr>\n",
       "    <tr>\n",
       "      <th>2015</th>\n",
       "      <td>420345.511538</td>\n",
       "    </tr>\n",
       "    <tr>\n",
       "      <th>2016</th>\n",
       "      <td>424340.311538</td>\n",
       "    </tr>\n",
       "    <tr>\n",
       "      <th>2017</th>\n",
       "      <td>408282.796154</td>\n",
       "    </tr>\n",
       "    <tr>\n",
       "      <th>2018</th>\n",
       "      <td>403912.503846</td>\n",
       "    </tr>\n",
       "  </tbody>\n",
       "</table>\n",
       "</div>"
      ],
      "text/plain": [
       "                  0\n",
       "2011  348147.461538\n",
       "2012  374562.719231\n",
       "2013  378687.430769\n",
       "2014  404353.319231\n",
       "2015  420345.511538\n",
       "2016  424340.311538\n",
       "2017  408282.796154\n",
       "2018  403912.503846"
      ]
     },
     "execution_count": 23,
     "metadata": {},
     "output_type": "execute_result"
    }
   ],
   "source": [
    "avg_weekday = pd.DataFrame.from_dict(avg_weekday_dict, orient = 'index')\n",
    "avg_weekday"
   ]
  },
  {
   "cell_type": "markdown",
   "metadata": {},
   "source": [
    "####  We can easily see that the ridership by year is steadily increasing. It's beginning to plateau ever since peaking in 2016."
   ]
  },
  {
   "cell_type": "code",
   "execution_count": 24,
   "metadata": {
    "scrolled": false
   },
   "outputs": [
    {
     "data": {
      "text/plain": [
       "Text(0.5, 0, 'Year')"
      ]
     },
     "execution_count": 24,
     "metadata": {},
     "output_type": "execute_result"
    },
    {
     "data": {
      "image/png": "[encoded data removed]",
      "text/plain": [
       "<Figure size 864x504 with 1 Axes>"
      ]
     },
     "metadata": {},
     "output_type": "display_data"
    }
   ],
   "source": [
    "fig, axs = plt.subplots(figsize = (12, 7))\n",
    "sns.lineplot(y = avg_weekday[0], x = avg_weekday.index, palette=(\"Blues\"))\n",
    "plt.title('Average Weekday Riders per Day', fontsize = 15)\n",
    "plt.ylabel('Number of Riders', fontsize=15)\n",
    "plt.xlabel(\"Year\", fontsize=15)"
   ]
  },
  {
   "cell_type": "code",
   "execution_count": 25,
   "metadata": {},
   "outputs": [
    {
     "data": {
      "text/html": [
       "<div>\n",
       "<style scoped>\n",
       "    .dataframe tbody tr th:only-of-type {\n",
       "        vertical-align: middle;\n",
       "    }\n",
       "\n",
       "    .dataframe tbody tr th {\n",
       "        vertical-align: top;\n",
       "    }\n",
       "\n",
       "    .dataframe thead th {\n",
       "        text-align: right;\n",
       "    }\n",
       "</style>\n",
       "<table border=\"1\" class=\"dataframe\">\n",
       "  <thead>\n",
       "    <tr style=\"text-align: right;\">\n",
       "      <th></th>\n",
       "      <th>date</th>\n",
       "      <th>month</th>\n",
       "      <th>day</th>\n",
       "      <th>hour</th>\n",
       "      <th>day_of_week</th>\n",
       "      <th>start</th>\n",
       "      <th>destination</th>\n",
       "      <th>throughput</th>\n",
       "    </tr>\n",
       "  </thead>\n",
       "  <tbody>\n",
       "    <tr>\n",
       "      <th>38377</th>\n",
       "      <td>2011-01-03</td>\n",
       "      <td>1</td>\n",
       "      <td>3</td>\n",
       "      <td>0</td>\n",
       "      <td>0</td>\n",
       "      <td>12TH</td>\n",
       "      <td>24TH</td>\n",
       "      <td>1</td>\n",
       "    </tr>\n",
       "    <tr>\n",
       "      <th>38378</th>\n",
       "      <td>2011-01-03</td>\n",
       "      <td>1</td>\n",
       "      <td>3</td>\n",
       "      <td>0</td>\n",
       "      <td>0</td>\n",
       "      <td>12TH</td>\n",
       "      <td>ASHB</td>\n",
       "      <td>3</td>\n",
       "    </tr>\n",
       "    <tr>\n",
       "      <th>38379</th>\n",
       "      <td>2011-01-03</td>\n",
       "      <td>1</td>\n",
       "      <td>3</td>\n",
       "      <td>0</td>\n",
       "      <td>0</td>\n",
       "      <td>12TH</td>\n",
       "      <td>BAYF</td>\n",
       "      <td>1</td>\n",
       "    </tr>\n",
       "    <tr>\n",
       "      <th>38380</th>\n",
       "      <td>2011-01-03</td>\n",
       "      <td>1</td>\n",
       "      <td>3</td>\n",
       "      <td>0</td>\n",
       "      <td>0</td>\n",
       "      <td>12TH</td>\n",
       "      <td>CIVC</td>\n",
       "      <td>1</td>\n",
       "    </tr>\n",
       "    <tr>\n",
       "      <th>38381</th>\n",
       "      <td>2011-01-03</td>\n",
       "      <td>1</td>\n",
       "      <td>3</td>\n",
       "      <td>0</td>\n",
       "      <td>0</td>\n",
       "      <td>12TH</td>\n",
       "      <td>CONC</td>\n",
       "      <td>1</td>\n",
       "    </tr>\n",
       "  </tbody>\n",
       "</table>\n",
       "</div>"
      ],
      "text/plain": [
       "            date  month  day  hour  day_of_week start destination  throughput\n",
       "38377 2011-01-03      1    3     0            0  12TH        24TH           1\n",
       "38378 2011-01-03      1    3     0            0  12TH        ASHB           3\n",
       "38379 2011-01-03      1    3     0            0  12TH        BAYF           1\n",
       "38380 2011-01-03      1    3     0            0  12TH        CIVC           1\n",
       "38381 2011-01-03      1    3     0            0  12TH        CONC           1"
      ]
     },
     "execution_count": 25,
     "metadata": {},
     "output_type": "execute_result"
    }
   ],
   "source": [
    "weekday_11.head()"
   ]
  },
  {
   "cell_type": "code",
   "execution_count": 26,
   "metadata": {},
   "outputs": [
    {
     "name": "stdout",
     "output_type": "stream",
     "text": [
      "Wall time: 22.2 s\n"
     ]
    }
   ],
   "source": [
    "%%time\n",
    "year = 2011\n",
    "num_weekday = 260\n",
    "morning_weekday = {}\n",
    "afternoon_weekday = {}\n",
    "off_prime_weekday = {}\n",
    "off_peak_weekday = {}\n",
    "for i in [weekday_11, weekday_12, weekday_13, weekday_14, weekday_15, weekday_16, weekday_17, weekday_18]:\n",
    "    morning = i[(i['hour'] == 7) | (i['hour'] == 8) | (i['hour'] == 9)]\n",
    "    afternoon = i[(i['hour'] == 16) | (i['hour'] == 17) | (i['hour'] == 18)]\n",
    "    off_peak = i[(i['hour'] != 16)&(i['hour']!=17)&(i['hour']!=18)&(i['hour']!=7)&(i['hour']!=8)&(i['hour']!=9)]\n",
    "\n",
    "    morning_weekday[year] = morning['throughput'].sum()/i['throughput'].sum()\n",
    "    afternoon_weekday[year] = afternoon['throughput'].sum()/i['throughput'].sum()\n",
    "    off_peak_weekday[year] = off_peak['throughput'].sum()/i['throughput'].sum()\n",
    "    year += 1"
   ]
  },
  {
   "cell_type": "code",
   "execution_count": 27,
   "metadata": {},
   "outputs": [],
   "source": [
    "morning_weekday = pd.DataFrame.from_dict(morning_weekday, orient = 'index')\n",
    "afternoon_weekday = pd.DataFrame.from_dict(afternoon_weekday, orient = 'index')\n",
    "off_peak_weekday = pd.DataFrame.from_dict(off_peak_weekday, orient = 'index')"
   ]
  },
  {
   "cell_type": "code",
   "execution_count": 28,
   "metadata": {},
   "outputs": [
    {
     "data": {
      "text/html": [
       "<div>\n",
       "<style scoped>\n",
       "    .dataframe tbody tr th:only-of-type {\n",
       "        vertical-align: middle;\n",
       "    }\n",
       "\n",
       "    .dataframe tbody tr th {\n",
       "        vertical-align: top;\n",
       "    }\n",
       "\n",
       "    .dataframe thead th {\n",
       "        text-align: right;\n",
       "    }\n",
       "</style>\n",
       "<table border=\"1\" class=\"dataframe\">\n",
       "  <thead>\n",
       "    <tr style=\"text-align: right;\">\n",
       "      <th></th>\n",
       "      <th>0</th>\n",
       "    </tr>\n",
       "  </thead>\n",
       "  <tbody>\n",
       "    <tr>\n",
       "      <th>2011</th>\n",
       "      <td>0.440086</td>\n",
       "    </tr>\n",
       "    <tr>\n",
       "      <th>2012</th>\n",
       "      <td>0.442414</td>\n",
       "    </tr>\n",
       "    <tr>\n",
       "      <th>2013</th>\n",
       "      <td>0.440554</td>\n",
       "    </tr>\n",
       "    <tr>\n",
       "      <th>2014</th>\n",
       "      <td>0.438560</td>\n",
       "    </tr>\n",
       "    <tr>\n",
       "      <th>2015</th>\n",
       "      <td>0.434112</td>\n",
       "    </tr>\n",
       "    <tr>\n",
       "      <th>2016</th>\n",
       "      <td>0.426213</td>\n",
       "    </tr>\n",
       "    <tr>\n",
       "      <th>2017</th>\n",
       "      <td>0.419448</td>\n",
       "    </tr>\n",
       "    <tr>\n",
       "      <th>2018</th>\n",
       "      <td>0.411107</td>\n",
       "    </tr>\n",
       "  </tbody>\n",
       "</table>\n",
       "</div>"
      ],
      "text/plain": [
       "             0\n",
       "2011  0.440086\n",
       "2012  0.442414\n",
       "2013  0.440554\n",
       "2014  0.438560\n",
       "2015  0.434112\n",
       "2016  0.426213\n",
       "2017  0.419448\n",
       "2018  0.411107"
      ]
     },
     "execution_count": 28,
     "metadata": {},
     "output_type": "execute_result"
    }
   ],
   "source": [
    "off_peak_weekday"
   ]
  },
  {
   "cell_type": "code",
   "execution_count": 29,
   "metadata": {
    "scrolled": false
   },
   "outputs": [
    {
     "data": {
      "text/plain": [
       "Text(0.5, 0, 'Year')"
      ]
     },
     "execution_count": 29,
     "metadata": {},
     "output_type": "execute_result"
    },
    {
     "data": {
      "image/png": "[encoded data removed]",
      "text/plain": [
       "<Figure size 864x504 with 1 Axes>"
      ]
     },
     "metadata": {},
     "output_type": "display_data"
    }
   ],
   "source": [
    "fig, axs = plt.subplots(figsize = (12, 7))\n",
    "plt.title('Proportion of Riders by Year', fontsize = 20)\n",
    "sns.lineplot(y = morning_weekday[0],x = morning_weekday.index, label = '7am - 9am')\n",
    "sns.lineplot(y = afternoon_weekday[0],x = afternoon_weekday.index, label = '4pm - 6pm')\n",
    "sns.lineplot(y = off_peak_weekday[0],x = off_peak_weekday.index, label = 'other hours')\n",
    "plt.legend()\n",
    "plt.ylabel('Proportion', fontsize=15)\n",
    "plt.xlabel(\"Year\", fontsize=15)"
   ]
  },
  {
   "cell_type": "code",
   "execution_count": 30,
   "metadata": {
    "scrolled": false
   },
   "outputs": [
    {
     "data": {
      "text/plain": [
       "Text(0.5, 0, 'Time of Day')"
      ]
     },
     "execution_count": 30,
     "metadata": {},
     "output_type": "execute_result"
    },
    {
     "data": {
      "image/png": "[encoded data removed]",
      "text/plain": [
       "<Figure size 936x432 with 1 Axes>"
      ]
     },
     "metadata": {},
     "output_type": "display_data"
    }
   ],
   "source": [
    "fig, axs = plt.subplots(figsize = (13, 6))\n",
    "plt.title('Throughput by Hour in 2018', fontsize = 20)\n",
    "clrs = ['gray' if (x not in [7, 8, 9, 16, 17, 18]) else 'darkred' for x in bart_18.groupby('hour').sum().index]\n",
    "sns.barplot(y = bart_18.groupby('hour').sum()['throughput'], x = bart_18.groupby('hour').sum().index, palette=(clrs))\n",
    "\n",
    "plt.ylabel('Throughput (10 Million)', fontsize=15)\n",
    "plt.xlabel(\"Time of Day\", fontsize=15)"
   ]
  },
  {
   "cell_type": "code",
   "execution_count": 31,
   "metadata": {},
   "outputs": [],
   "source": [
    "# also use august bc it has no holidays, so the data is extremely consistent \n",
    "aug_17 = bart_17[bart_17['month'] == 8]\n",
    "aug_18 = bart_18[bart_18['month'] == 8]\n",
    "\n",
    "# only get the first 4 weeks of august to make sure each day of the week is represented exactly times\n",
    "aug_17 = aug_17[aug_17['day'] <= 28]\n",
    "aug_18 = aug_18[aug_18['day'] <= 28]"
   ]
  },
  {
   "cell_type": "code",
   "execution_count": 32,
   "metadata": {},
   "outputs": [],
   "source": [
    "plots = bart_18.groupby('day_of_week').sum()"
   ]
  },
  {
   "cell_type": "code",
   "execution_count": 33,
   "metadata": {
    "scrolled": false
   },
   "outputs": [
    {
     "data": {
      "text/plain": [
       "Text(0.5, 0, 'Day of the Week')"
      ]
     },
     "execution_count": 33,
     "metadata": {},
     "output_type": "execute_result"
    },
    {
     "data": {
      "image/png": "[encoded data removed]",
      "text/plain": [
       "<Figure size 936x504 with 1 Axes>"
      ]
     },
     "metadata": {},
     "output_type": "display_data"
    }
   ],
   "source": [
    "fig, axs = plt.subplots(figsize = (13, 7))\n",
    "plt.title('Throughput in 2018 by Day of the Week', fontsize = 20)\n",
    "clrs = ['gray' if (x not in [5, 6]) else 'darkgreen' if x == 5 else 'forestgreen' for x in plots.index]\n",
    "sns.barplot(data = plots, x = ['Monday', 'Tuesday', 'Wednesday', 'Thursday', 'Friday', 'Saturday', 'Sunday'], y='throughput', palette = clrs)\n",
    "plt.ylabel('Throughput', fontsize=15)\n",
    "plt.xlabel(\"Day of the Week\", fontsize=15)"
   ]
  },
  {
   "cell_type": "markdown",
   "metadata": {},
   "source": [
    "We can easily see that ridership falls off significantly on weekends! Ridership on Saturdays is not very different from Sunday at all."
   ]
  },
  {
   "cell_type": "code",
   "execution_count": 34,
   "metadata": {},
   "outputs": [
    {
     "data": {
      "text/html": [
       "<div>\n",
       "<style scoped>\n",
       "    .dataframe tbody tr th:only-of-type {\n",
       "        vertical-align: middle;\n",
       "    }\n",
       "\n",
       "    .dataframe tbody tr th {\n",
       "        vertical-align: top;\n",
       "    }\n",
       "\n",
       "    .dataframe thead th {\n",
       "        text-align: right;\n",
       "    }\n",
       "</style>\n",
       "<table border=\"1\" class=\"dataframe\">\n",
       "  <thead>\n",
       "    <tr style=\"text-align: right;\">\n",
       "      <th></th>\n",
       "      <th>day_of_week</th>\n",
       "      <th>throughput</th>\n",
       "    </tr>\n",
       "  </thead>\n",
       "  <tbody>\n",
       "    <tr>\n",
       "      <th>0</th>\n",
       "      <td>0</td>\n",
       "      <td>1625602</td>\n",
       "    </tr>\n",
       "    <tr>\n",
       "      <th>1</th>\n",
       "      <td>1</td>\n",
       "      <td>1721174</td>\n",
       "    </tr>\n",
       "    <tr>\n",
       "      <th>2</th>\n",
       "      <td>2</td>\n",
       "      <td>1720498</td>\n",
       "    </tr>\n",
       "    <tr>\n",
       "      <th>3</th>\n",
       "      <td>3</td>\n",
       "      <td>1697772</td>\n",
       "    </tr>\n",
       "    <tr>\n",
       "      <th>4</th>\n",
       "      <td>4</td>\n",
       "      <td>1623642</td>\n",
       "    </tr>\n",
       "    <tr>\n",
       "      <th>5</th>\n",
       "      <td>5</td>\n",
       "      <td>639215</td>\n",
       "    </tr>\n",
       "    <tr>\n",
       "      <th>6</th>\n",
       "      <td>6</td>\n",
       "      <td>469205</td>\n",
       "    </tr>\n",
       "  </tbody>\n",
       "</table>\n",
       "</div>"
      ],
      "text/plain": [
       "   day_of_week  throughput\n",
       "0            0     1625602\n",
       "1            1     1721174\n",
       "2            2     1720498\n",
       "3            3     1697772\n",
       "4            4     1623642\n",
       "5            5      639215\n",
       "6            6      469205"
      ]
     },
     "execution_count": 34,
     "metadata": {},
     "output_type": "execute_result"
    }
   ],
   "source": [
    "aug_18.groupby('day_of_week').sum()[['throughput']].reset_index()"
   ]
  },
  {
   "cell_type": "markdown",
   "metadata": {},
   "source": [
    "## 2. Sunday vs Rest of the Week Permutation Testing"
   ]
  },
  {
   "cell_type": "markdown",
   "metadata": {},
   "source": [
    "take only the trips that require a single train on sundays, and compare the amount of throughput. Do a permutation test accordingly. So itll look like:\n",
    "\n",
    "no_transfer = only trips, of all days, that take no transfers to get to where you want. then segregate it by Weekdays, Saturday, Sunday;\n",
    "- no_transfer_week\n",
    "- no_transfer_sat\n",
    "- no_transfer_sun\n",
    "do a groupby on the day of the week.sum()\n",
    "\n",
    "yes_transfer = all trips that do require a transfer (on sunday) then segregate it again\n",
    "- transfer_week\n",
    "- transfer_sat\n",
    "- transfer_sun\n",
    "\n",
    "\n"
   ]
  },
  {
   "cell_type": "code",
   "execution_count": null,
   "metadata": {},
   "outputs": [],
   "source": [
    "# Train stations that require no transfers, assuming the Start and Destination both belong to the same line\n",
    "yellow_line = [\n",
    "    'MLBR', 'SFIA', 'SBRN', 'SSAN', 'COLM', 'DALY','BALB', 'GLEN', '24TH', '16TH', 'CIVC','POWL', 'MONT', 'EMBR',\\\n",
    "    'ANTC', 'PCTR', 'PITT', 'NCON', 'CONC', 'ANTI','ORIN', 'LAFY', 'WCRK', 'PHIL',\\\n",
    "    'ROCK', 'MCAR', '19TH', '12TH'\n",
    "]\n",
    "orange_line = [\n",
    "    'HAYW','SHAY','UCTY','FRMT', 'WARM', 'WSPR','RICH', 'DELN', 'PLZA','NBRK','DBRK','ASHB',\\\n",
    "    \"MCAR\", '12TH', '19TH','LAKE','FTVL','COLS', 'SANL','BAYF'\n",
    "]\n",
    "blue_line = [\n",
    "    'CAST', 'WDUB', 'DUBL', \"MCAR\", '12TH', '19TH', 'LAKE','FTVL','COLS','SANL','BAYF'\n",
    "]"
   ]
  },
  {
   "cell_type": "code",
   "execution_count": null,
   "metadata": {},
   "outputs": [],
   "source": [
    "def get_no_transfers(df):\n",
    "    \"\"\"\n",
    "    Takes df and adds a new column that indicates whether or not the trip requires a train transfer,\n",
    "    assuming it runs on a Sunday train schedule\n",
    "    \"\"\"\n",
    "    yellow = df[['start', 'destination']].isin(yellow_line) & df[['start', 'destination']].isin(yellow_line)\n",
    "    yellow['yellow'] = yellow['start'] & yellow['destination']\n",
    "\n",
    "    orange = df[['start', 'destination']].isin(orange_line) & df[['start', 'destination']].isin(orange_line)\n",
    "    orange['orange'] = orange['start'] & orange['destination']\n",
    "\n",
    "    blue = df[['start', 'destination']].isin(blue_line) & df[['start', 'destination']].isin(blue_line)\n",
    "    blue['blue'] = blue['start'] & blue['destination']\n",
    "\n",
    "    condition = pd.concat([yellow['yellow'], orange['orange'], blue['blue']], axis = 1)\n",
    "    condition['no_transfer'] = condition['yellow'] | condition['orange'] | condition['blue']\n",
    "    df['no_transfer'] = condition['no_transfer']\n",
    "    return df"
   ]
  },
  {
   "cell_type": "code",
   "execution_count": null,
   "metadata": {},
   "outputs": [],
   "source": [
    "aug_17 = get_no_transfers(aug_17)\n",
    "aug_18 = get_no_transfers(aug_18)"
   ]
  },
  {
   "cell_type": "code",
   "execution_count": null,
   "metadata": {},
   "outputs": [],
   "source": [
    "tr_18 = get_no_transfers(bart_18)"
   ]
  },
  {
   "cell_type": "markdown",
   "metadata": {},
   "source": [
    "## More experimental Design\n",
    "write a permutation test that showcases how the proportion of rides on sundays for transfers actually increases instead of decreases, alpha = 0.05.\n",
    "\n",
    "This means that people seem to be undeterred by the fact that they have to transfer, otherwise we should be seeing a decrease in the number of rides that require a transfer. Transferring means that they have to physically change stations and denotes a longer commute time.\n",
    "\n",
    "But we are able to show that the kinds of riders who ride on Saturday are similar to the kinds of people who ride on Sunday as opposed to the weekdays, then it can be another reason why changing Saturday schedules to sunday schedules are appropriate.\n",
    "\n",
    "We can do this by showcasing the times in which people make their rides. since you had classified before hand the regions in which people ride from, then we can do a permutation test to see the number of rides that occur."
   ]
  },
  {
   "cell_type": "code",
   "execution_count": null,
   "metadata": {},
   "outputs": [],
   "source": [
    "t_18 = tr_18.copy()\n",
    "t_18 = t_18[['day_of_week','start', 'destination', 'throughput', 'no_transfer']]"
   ]
  },
  {
   "cell_type": "markdown",
   "metadata": {},
   "source": [
    "# Permutation Test on Transfers"
   ]
  },
  {
   "cell_type": "markdown",
   "metadata": {},
   "source": [
    "### Observed Statistic"
   ]
  },
  {
   "cell_type": "code",
   "execution_count": null,
   "metadata": {},
   "outputs": [],
   "source": [
    "no_transfer_18 = t_18[t_18['no_transfer'] == True].drop(columns = ['no_transfer'])\n",
    "no_transfer_18 = no_transfer_18.groupby('day_of_week').sum()[['throughput']]\n",
    "no_transfer_18['throughput'] = no_transfer_18['throughput']/no_transfer_18['throughput'].sum()\n",
    "no_transfer_2018_sunday = no_transfer_18.iloc[6]['throughput']\n",
    "no_transfer_2018_sunday\n",
    "# interpretation: of all the rides that do not require a transfer on a sunday (and not on any other day), \n",
    "# Sunday accounts for 5.20% of them."
   ]
  },
  {
   "cell_type": "code",
   "execution_count": null,
   "metadata": {},
   "outputs": [],
   "source": [
    "transfer_18 = t_18[t_18['no_transfer'] == False].drop(columns = ['no_transfer'])\n",
    "transfer_18 = transfer_18.groupby('day_of_week').sum()[['throughput']]\n",
    "transfer_18['throughput'] = transfer_18['throughput']/transfer_18['throughput'].sum()\n",
    "transfer_2018_sunday = transfer_18.iloc[6]['throughput']\n",
    "transfer_2018_sunday\n",
    "# interpretation: of all the rides that require a transfer on a sunday (and not on any other day), \n",
    "# Sunday accounts for 5.45% of them."
   ]
  },
  {
   "cell_type": "code",
   "execution_count": null,
   "metadata": {
    "scrolled": true
   },
   "outputs": [],
   "source": [
    "# observed value:\n",
    "no_transfer_2018_sunday - transfer_2018_sunday"
   ]
  },
  {
   "cell_type": "code",
   "execution_count": null,
   "metadata": {},
   "outputs": [],
   "source": [
    "no_transfer_18.index = ['Monday', 'Tuesday', 'Wednesday', 'Thursday', 'Friday', 'Saturday', 'Sunday']"
   ]
  },
  {
   "cell_type": "code",
   "execution_count": null,
   "metadata": {},
   "outputs": [],
   "source": [
    "no_transfer_18"
   ]
  },
  {
   "cell_type": "code",
   "execution_count": null,
   "metadata": {},
   "outputs": [],
   "source": [
    "transfer_18.index = ['Monday', 'Tuesday', 'Wednesday', 'Thursday', 'Friday', 'Saturday', 'Sunday']"
   ]
  },
  {
   "cell_type": "code",
   "execution_count": null,
   "metadata": {},
   "outputs": [],
   "source": [
    "transfer_18"
   ]
  },
  {
   "cell_type": "markdown",
   "metadata": {},
   "source": [
    "### Calculate one test statistic"
   ]
  },
  {
   "cell_type": "code",
   "execution_count": null,
   "metadata": {},
   "outputs": [],
   "source": [
    "def transfer_permutation_test(t_18):\n",
    "    shuffle = t_18['no_transfer'].sample(replace = False, frac = 1).reset_index(drop = True)\n",
    "    shuffled_original = t_18.assign(**{'no_transfer': shuffle})\n",
    "    \n",
    "    no_transfer_18 = shuffled_original[shuffled_original['no_transfer'] == True]#.drop(columns = ['no_transfer'])\n",
    "    no_transfer_18 = no_transfer_18.groupby('day_of_week').sum()[['throughput']]\n",
    "    no_transfer_18['throughput'] = no_transfer_18['throughput']/no_transfer_18['throughput'].sum()\n",
    "    #print(no_transfer_18['throughput'])\n",
    "    no_transfer_2018_sunday = no_transfer_18.iloc[6]['throughput']\n",
    "\n",
    "    transfer_18 = shuffled_original[shuffled_original['no_transfer'] == False]#.drop(columns = ['no_transfer'])\n",
    "    transfer_18 = transfer_18.groupby('day_of_week').sum()[['throughput']]\n",
    "    transfer_18['throughput'] = transfer_18['throughput']/transfer_18['throughput'].sum()\n",
    "    transfer_2018_sunday = transfer_18.iloc[6]['throughput']\n",
    "    return no_transfer_2018_sunday - transfer_2018_sunday"
   ]
  },
  {
   "cell_type": "code",
   "execution_count": null,
   "metadata": {
    "scrolled": true
   },
   "outputs": [],
   "source": [
    "transfer_permutation_test(t_18)"
   ]
  },
  {
   "cell_type": "markdown",
   "metadata": {},
   "source": [
    "### Avoid running this cell b/c 20 minute simulation time"
   ]
  },
  {
   "cell_type": "code",
   "execution_count": null,
   "metadata": {},
   "outputs": [],
   "source": [
    "# %%time\n",
    "# shuffle = []\n",
    "# for i in range(500):\n",
    "#     shuffle.append(transfer_permutation_test(t_18))"
   ]
  },
  {
   "cell_type": "code",
   "execution_count": null,
   "metadata": {},
   "outputs": [],
   "source": [
    "fig, axs = plt.subplots(figsize = (7, 4))\n",
    "plt.title('A/B Test on Transfer vs Non-Transfer Rides', fontsize = 20)\n",
    "sns.distplot(shuffle, hist = True)\n",
    "plt.axvline(-0.0024276234726327284, 0, 2, color = 'red')\n",
    "plt.ylabel('Density', fontsize=15)\n",
    "plt.xlabel(\"Difference Between Transfer & Non-Transfer\", fontsize=15)"
   ]
  },
  {
   "cell_type": "code",
   "execution_count": null,
   "metadata": {},
   "outputs": [],
   "source": [
    "np.count_nonzero(shuffle > no_transfer_2018_sunday - transfer_2018_sunday)"
   ]
  },
  {
   "cell_type": "code",
   "execution_count": null,
   "metadata": {},
   "outputs": [],
   "source": []
  },
  {
   "cell_type": "markdown",
   "metadata": {},
   "source": [
    "## Difference in Region A/B Test"
   ]
  },
  {
   "cell_type": "code",
   "execution_count": null,
   "metadata": {},
   "outputs": [],
   "source": [
    "bart_region = bart_18.copy()\n",
    "bart_region = bart_region[['day_of_week', 'start', 'throughput']]\n",
    "bart_region.head()"
   ]
  },
  {
   "cell_type": "code",
   "execution_count": null,
   "metadata": {},
   "outputs": [],
   "source": [
    "sun_18 = bart_region[bart_region['day_of_week'] == 6].groupby('start').sum()[['throughput']]\n",
    "sat_18 = bart_region[bart_region['day_of_week'] == 5].groupby('start').sum()[['throughput']]\n",
    "weekday_18 = bart_region[(bart_region['day_of_week'] != 5) & (bart_region['day_of_week'] != 6)].groupby('start').sum()[['throughput']]\n",
    "district_lst = []\n",
    "\n",
    "for i in sun_18.iterrows():\n",
    "    district_lst.append(bart_district[i[0]])\n",
    "sun_18['district'] = district_lst\n",
    "sat_18['district'] = district_lst\n",
    "weekday_18['district'] = district_lst\n",
    "    \n",
    "sat_18 = sat_18.reset_index().groupby('district').sum()[['throughput']]\n",
    "sat_18['throughput'] = sat_18['throughput']/sat_18['throughput'].sum()\n",
    "\n",
    "sun_18 = sun_18.reset_index().groupby('district').sum()[['throughput']]\n",
    "sun_18['throughput'] = sun_18['throughput']/sun_18['throughput'].sum()\n",
    "\n",
    "weekday_18 = weekday_18.reset_index().groupby('district').sum()[['throughput']]\n",
    "weekday_18['throughput'] = weekday_18['throughput']/weekday_18['throughput'].sum()\n",
    "sun_sat = (abs(sun_18 - sat_18)).sum()\n",
    "sun_weekday = (abs(sun_18 - weekday_18)).sum()"
   ]
  },
  {
   "cell_type": "markdown",
   "metadata": {},
   "source": [
    "### Variance Analysis "
   ]
  },
  {
   "cell_type": "code",
   "execution_count": null,
   "metadata": {
    "scrolled": false
   },
   "outputs": [],
   "source": [
    "bart_one = bart_18[(bart_18['day_of_week'] != 5) & (bart_18['day_of_week'] != 6)]\n",
    "\n",
    "weekday_count = len(np.unique(bart_one['date']))\n",
    "test_plot_one = bart_one.groupby('hour').sum()[['throughput']]\n",
    "sns.barplot(y = test_plot_one['throughput']/weekday_count, x = test_plot_one.index, palette = 'blues')"
   ]
  },
  {
   "cell_type": "code",
   "execution_count": null,
   "metadata": {},
   "outputs": [],
   "source": []
  },
  {
   "cell_type": "code",
   "execution_count": null,
   "metadata": {
    "scrolled": true
   },
   "outputs": [],
   "source": [
    "bart_one.groupby('hour').std()[['throughput']]"
   ]
  },
  {
   "cell_type": "code",
   "execution_count": null,
   "metadata": {
    "scrolled": true
   },
   "outputs": [],
   "source": [
    "bart_test = bart_18[(bart_18['day_of_week'] == 5) | (bart_18['day_of_week'] == 6)]\n",
    "test_plot = bart_test.groupby('hour').sum()[['throughput']]\n",
    "weekend_count = len(np.unique(bart_test['date']))\n",
    "\n",
    "fig, axs = plt.subplots(figsize = (2, 2))\n",
    "plt.title('Weekend Traffic by Hour in 2018', fontsize = 20)\n",
    "sns.lineplot(y = test_plot['throughput']/weekend_count, x = test_plot.index, label = 'Weekend', ci = 'sd', n_boot = 100, err_style = 'band')\n",
    "sns.lineplot(y = test_plot_one['throughput']/weekday_count, x = test_plot_one.index, label = 'Weekday', ci = 'sd', n_boot = 100)\n",
    "\n",
    "plt.legend()\n",
    "plt.ylabel('Average Throughput by Day', fontsize=15)\n",
    "plt.xlabel(\"Time of Day\", fontsize=15)"
   ]
  },
  {
   "cell_type": "code",
   "execution_count": null,
   "metadata": {},
   "outputs": [],
   "source": [
    "bart_test[bart_test['hour'] == 10].groupby('date').sum()['throughput'].std()"
   ]
  },
  {
   "cell_type": "code",
   "execution_count": null,
   "metadata": {},
   "outputs": [],
   "source": [
    "# Weekends\n",
    "std_dict = {}\n",
    "for i in range(24):\n",
    "    std_dict[i] = bart_test[bart_test['hour'] == i].groupby('date').sum()['throughput'].std()"
   ]
  },
  {
   "cell_type": "code",
   "execution_count": null,
   "metadata": {
    "scrolled": true
   },
   "outputs": [],
   "source": [
    "std_dict"
   ]
  },
  {
   "cell_type": "code",
   "execution_count": null,
   "metadata": {},
   "outputs": [],
   "source": [
    "# Weekdays\n",
    "std_dict_weekday = {}\n",
    "for i in range(24):\n",
    "    std_dict_weekday[i] = bart_one[bart_one['hour'] == i].groupby('date').sum()['throughput'].std()"
   ]
  },
  {
   "cell_type": "code",
   "execution_count": null,
   "metadata": {},
   "outputs": [],
   "source": [
    "std_df = pd.DataFrame.from_dict(std_dict_weekday, orient = 'index')\n",
    "std_df['weekend'] = std_dict.values()\n",
    "std_df['weekday'] = std_dict_weekday.values()\n",
    "std_df = std_df.drop(columns = [0])\n",
    "std_df\n",
    "\n",
    "fig, axs = plt.subplots(figsize = (12, 6))\n",
    "\n",
    "plt.title('Weekend Traffic Standard Deviation, by Hour in 2018')\n",
    "sns.lineplot(y = std_df['weekend'], x = std_df.index, label = 'Weekend')\n",
    "sns.lineplot(y = std_df['weekday'], x = std_df.index, label = 'Weekday')\n",
    "plt.ylabel('Standard Deviation', fontsize=15)\n",
    "plt.xlabel(\"Time of Day\", fontsize=15)"
   ]
  },
  {
   "cell_type": "code",
   "execution_count": null,
   "metadata": {},
   "outputs": [],
   "source": []
  },
  {
   "cell_type": "code",
   "execution_count": null,
   "metadata": {},
   "outputs": [],
   "source": [
    "def sunday_difference_null_hypothesis(bart_region):\n",
    "    shuffle = bart_region['day_of_week'].sample(replace = False, frac = 1).reset_index(drop = True)\n",
    "    bart_region = bart_region.assign(**{'day_of_week': shuffle})\n",
    "    sun_18 = bart_region[bart_region['day_of_week'] == 6].groupby('start').sum()[['throughput']]\n",
    "    sat_18 = bart_region[bart_region['day_of_week'] == 5].groupby('start').sum()[['throughput']]\n",
    "    weekday_18 = bart_region[(bart_region['day_of_week'] != 5) & (bart_region['day_of_week'] != 6)].groupby('start').sum()[['throughput']]\n",
    "    district_lst = []\n",
    "\n",
    "    for i in sun_18.iterrows():\n",
    "        district_lst.append(bart_district[i[0]])\n",
    "    sun_18['district'] = district_lst\n",
    "    sat_18['district'] = district_lst\n",
    "    weekday_18['district'] = district_lst\n",
    "    \n",
    "    sat_18 = sat_18.reset_index().groupby('district').sum()[['throughput']]\n",
    "    sat_18['throughput'] = sat_18['throughput']/sat_18['throughput'].sum()\n",
    "\n",
    "    sun_18 = sun_18.reset_index().groupby('district').sum()[['throughput']]\n",
    "    sun_18['throughput'] = sun_18['throughput']/sun_18['throughput'].sum()\n",
    "\n",
    "    weekday_18 = weekday_18.reset_index().groupby('district').sum()[['throughput']]\n",
    "    weekday_18['throughput'] = weekday_18['throughput']/weekday_18['throughput'].sum()\n",
    "    sun_sat = (abs(sun_18 - sat_18)).sum()\n",
    "    sun_weekday = (abs(sun_18 - weekday_18)).sum()\n",
    "    return sun_sat - sun_weekday"
   ]
  },
  {
   "cell_type": "code",
   "execution_count": null,
   "metadata": {},
   "outputs": [],
   "source": [
    "sunday_difference_null_hypothesis(bart_region)"
   ]
  },
  {
   "cell_type": "markdown",
   "metadata": {},
   "source": [
    "### Don't run this bc it takes 24 minutes"
   ]
  },
  {
   "cell_type": "code",
   "execution_count": null,
   "metadata": {},
   "outputs": [],
   "source": [
    "# %%time\n",
    "# sunday_hypo = []\n",
    "# for i in range(500):\n",
    "#     sunday_hypo.append(sunday_difference_null_hypothesis(bart_region))"
   ]
  },
  {
   "cell_type": "code",
   "execution_count": null,
   "metadata": {},
   "outputs": [],
   "source": [
    "fig, axs = plt.subplots(figsize = (14, 7))\n",
    "plt.title('A/B Test on Sun/Sat vs Sun/Weekday', fontsize = 20)\n",
    "sns.distplot(sunday_hypo, hist = True)\n",
    "plt.axvline(0.041435, 0, 2, color = 'red')\n",
    "plt.ylabel('Density', fontsize=15)\n",
    "plt.xlabel(\"Difference Between Sun/Sat vs Sun/Weekday\", fontsize=15)"
   ]
  },
  {
   "cell_type": "code",
   "execution_count": null,
   "metadata": {},
   "outputs": [],
   "source": [
    "weekends = sun_18 - sat_18\n",
    "weekends"
   ]
  },
  {
   "cell_type": "code",
   "execution_count": null,
   "metadata": {},
   "outputs": [],
   "source": [
    "weekend_weekday = sun_18 - weekday_18\n",
    "weekend_weekday"
   ]
  },
  {
   "cell_type": "code",
   "execution_count": null,
   "metadata": {},
   "outputs": [],
   "source": [
    "sun_sat = (abs(sun_18 - sat_18)).sum()"
   ]
  },
  {
   "cell_type": "code",
   "execution_count": null,
   "metadata": {},
   "outputs": [],
   "source": [
    "sun_weekday = (abs(sun_18 - weekday_18)).sum()"
   ]
  },
  {
   "cell_type": "code",
   "execution_count": null,
   "metadata": {},
   "outputs": [],
   "source": [
    "sun_sat"
   ]
  },
  {
   "cell_type": "code",
   "execution_count": null,
   "metadata": {},
   "outputs": [],
   "source": [
    "sun_weekday"
   ]
  },
  {
   "cell_type": "code",
   "execution_count": null,
   "metadata": {},
   "outputs": [],
   "source": [
    "fig, axs = plt.subplots(figsize = (12, 7))\n",
    "plt.title('Difference in Start Point b/t Sunday and Saturday', fontsize = 20)\n",
    "sns.barplot(y = weekends.index, x = weekends['throughput'])\n",
    "plt.ylabel('District', fontsize=15)\n",
    "plt.xlabel(\"Difference in Throughput Proportion\", fontsize=15)"
   ]
  },
  {
   "cell_type": "code",
   "execution_count": null,
   "metadata": {},
   "outputs": [],
   "source": [
    "fig, axs = plt.subplots(figsize = (12, 7))\n",
    "plt.title('Difference in Start Point b/t Sunday and Weekdays', fontsize = 20)\n",
    "sns.barplot(y = weekend_weekday.index, x = weekend_weekday['throughput'])\n",
    "plt.ylabel('District', fontsize=15)\n",
    "plt.xlabel(\"Difference in Throughput Proportion\", fontsize=15)"
   ]
  },
  {
   "cell_type": "code",
   "execution_count": null,
   "metadata": {},
   "outputs": [],
   "source": [
    "morn_dest = jan_2018_morn.groupby('destination').sum()[['throughput']]\n",
    "\n",
    "district_lst = []\n",
    "for i in morn_dest.iterrows():\n",
    "     district_lst.append(bart_district[i[0]])\n",
    "\n",
    "morn_dest['district'] = district_lst\n",
    "morn_dest;"
   ]
  },
  {
   "cell_type": "code",
   "execution_count": null,
   "metadata": {},
   "outputs": [],
   "source": [
    "morn = morn_start.sort_values('throughput', ascending = False)\n",
    "dest = morn_dest.sort_values('throughput', ascending = False) "
   ]
  },
  {
   "cell_type": "code",
   "execution_count": null,
   "metadata": {},
   "outputs": [],
   "source": [
    "fig, axs = plt.subplots(figsize = (15, 3))\n",
    "sns.barplot(y = morn.index[:10], x = morn['throughput'][:10], hue = morn['district'][:10], dodge = False)\n",
    "plt.title('Top Ten Stations Traffic Between 7am-10am [LEAVING]', fontsize = 20)"
   ]
  },
  {
   "cell_type": "code",
   "execution_count": null,
   "metadata": {},
   "outputs": [],
   "source": [
    "fig, axs = plt.subplots(figsize = (15,3))\n",
    "sns.barplot(y = dest.index[:10], x = dest['throughput'][:10], hue = dest['district'][:10], dodge = False)"
   ]
  },
  {
   "cell_type": "code",
   "execution_count": null,
   "metadata": {},
   "outputs": [],
   "source": [
    "dest['throughput'][:10], dest.index[:10]"
   ]
  },
  {
   "cell_type": "code",
   "execution_count": null,
   "metadata": {},
   "outputs": [],
   "source": []
  },
  {
   "cell_type": "code",
   "execution_count": null,
   "metadata": {},
   "outputs": [],
   "source": [
    "# plt.ylabel('Conversion Rate', fontname=\"Arial\", fontsize=15)\n",
    "# plt.xlabel(\"Date\", fontsize=15)\n",
    "# plt.legend(prop = {'size': 14})\n",
    "# plt.title('Conversion Rate by Day', fontsize = 20)"
   ]
  },
  {
   "cell_type": "code",
   "execution_count": null,
   "metadata": {},
   "outputs": [],
   "source": [
    "# # will convert all of the destinations into its respective name\n",
    "# station_dict = {}\n",
    "# for i in station.iterrows():\n",
    "#     station_dict[i[1]['Abbreviation']] = i[1]['Name'][:-7]\n",
    "\n",
    "# station_func = np.vectorize(lambda x: station_dict[x])\n",
    "# bart['start'] = station_func(np.array(bart['start']))\n",
    "# bart['destination'] = station_func(np.array(bart['destination']))"
   ]
  },
  {
   "cell_type": "code",
   "execution_count": null,
   "metadata": {},
   "outputs": [],
   "source": []
  },
  {
   "cell_type": "code",
   "execution_count": null,
   "metadata": {},
   "outputs": [],
   "source": []
  }
 ],
 "metadata": {
  "kernelspec": {
   "display_name": "Python 3",
   "language": "python",
   "name": "python3"
  },
  "language_info": {
   "codemirror_mode": {
    "name": "ipython",
    "version": 3
   },
   "file_extension": ".py",
   "mimetype": "text/x-python",
   "name": "python",
   "nbconvert_exporter": "python",
   "pygments_lexer": "ipython3",
   "version": "3.6.2"
  }
 },
 "nbformat": 4,
 "nbformat_minor": 2
}
